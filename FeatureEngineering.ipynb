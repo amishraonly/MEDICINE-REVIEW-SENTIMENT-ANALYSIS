{
 "cells": [
  {
   "cell_type": "code",
   "execution_count": 1,
   "id": "aaba5d9e",
   "metadata": {},
   "outputs": [],
   "source": [
    "import pandas as pd\n",
    "import numpy as np\n",
    "\n",
    "from sklearn.preprocessing import OneHotEncoder\n",
    "import matplotlib.pyplot as plt\n",
    "import warnings\n",
    "warnings.filterwarnings ('ignore')\n",
    "import seaborn as sns\n",
    "from tqdm import tqdm\n",
    "from sklearn.metrics import confusion_matrix\n",
    "\n",
    "from sklearn import metrics\n",
    "from sklearn.metrics import roc_curve, auc\n",
    "\n",
    "from numpy import mean\n",
    "from numpy import std\n",
    "from sklearn.ensemble import StackingClassifier\n",
    "from sklearn.model_selection import cross_val_score\n",
    "from sklearn.model_selection import RepeatedStratifiedKFold\n",
    "from sklearn.linear_model import LogisticRegression\n",
    "from sklearn.neighbors import KNeighborsClassifier\n",
    "from sklearn.tree import DecisionTreeClassifier\n",
    "from sklearn.svm import SVC\n",
    "from sklearn.naive_bayes import GaussianNB\n",
    "from matplotlib import pyplot\n",
    "from sklearn.model_selection import RandomizedSearchCV\n",
    "from sklearn.preprocessing import LabelEncoder\n",
    "from sklearn.preprocessing import OneHotEncoder"
   ]
  },
  {
   "cell_type": "code",
   "execution_count": 2,
   "id": "28ac8f20",
   "metadata": {},
   "outputs": [],
   "source": [
    "#Reading the data\n",
    "df = pd.read_csv(\"preprocessed_data.csv\")"
   ]
  },
  {
   "cell_type": "code",
   "execution_count": 10,
   "id": "17fcec7e",
   "metadata": {},
   "outputs": [
    {
     "name": "stdout",
     "output_type": "stream",
     "text": [
      "Shape of train: (127598, 9)\n",
      "Shape of test:  (31900, 9)\n"
     ]
    }
   ],
   "source": [
    "#train test split\n",
    "from sklearn.model_selection import train_test_split\n",
    "\n",
    "X_train, X_test = train_test_split(df, test_size=0.2,stratify=df['Rating'] ,random_state=42)\n",
    "\n",
    "y_train = X_train['Rating']\n",
    "\n",
    "y_test = X_test['Rating']\n",
    "\n",
    "# checking the shape \n",
    "print(\"Shape of train:\", X_train.shape)\n",
    "print(\"Shape of test: \", X_test.shape)"
   ]
  },
  {
   "cell_type": "code",
   "execution_count": 5,
   "id": "cd3577c0",
   "metadata": {},
   "outputs": [
    {
     "data": {
      "text/plain": [
       "Index(['uniqueID', 'drugName', 'condition', 'review', 'usefulCount', 'Rating',\n",
       "       'year', 'month', 'day'],\n",
       "      dtype='object')"
      ]
     },
     "execution_count": 5,
     "metadata": {},
     "output_type": "execute_result"
    }
   ],
   "source": [
    "df.columns"
   ]
  },
  {
   "cell_type": "code",
   "execution_count": 7,
   "id": "09bfeece",
   "metadata": {},
   "outputs": [
    {
     "data": {
      "text/html": [
       "<div>\n",
       "<style scoped>\n",
       "    .dataframe tbody tr th:only-of-type {\n",
       "        vertical-align: middle;\n",
       "    }\n",
       "\n",
       "    .dataframe tbody tr th {\n",
       "        vertical-align: top;\n",
       "    }\n",
       "\n",
       "    .dataframe thead th {\n",
       "        text-align: right;\n",
       "    }\n",
       "</style>\n",
       "<table border=\"1\" class=\"dataframe\">\n",
       "  <thead>\n",
       "    <tr style=\"text-align: right;\">\n",
       "      <th></th>\n",
       "      <th>uniqueID</th>\n",
       "      <th>drugName</th>\n",
       "      <th>condition</th>\n",
       "      <th>review</th>\n",
       "      <th>usefulCount</th>\n",
       "      <th>Rating</th>\n",
       "      <th>year</th>\n",
       "      <th>month</th>\n",
       "      <th>day</th>\n",
       "    </tr>\n",
       "  </thead>\n",
       "  <tbody>\n",
       "    <tr>\n",
       "      <th>0</th>\n",
       "      <td>206461</td>\n",
       "      <td>valsartan</td>\n",
       "      <td>left ventricular dysfunction</td>\n",
       "      <td>side effect take combination bystolic 5 mg fis...</td>\n",
       "      <td>27</td>\n",
       "      <td>1</td>\n",
       "      <td>2012</td>\n",
       "      <td>5</td>\n",
       "      <td>20</td>\n",
       "    </tr>\n",
       "    <tr>\n",
       "      <th>1</th>\n",
       "      <td>95260</td>\n",
       "      <td>guanfacine</td>\n",
       "      <td>adhd</td>\n",
       "      <td>son halfway fourth week intuniv became concern...</td>\n",
       "      <td>192</td>\n",
       "      <td>1</td>\n",
       "      <td>2010</td>\n",
       "      <td>4</td>\n",
       "      <td>27</td>\n",
       "    </tr>\n",
       "    <tr>\n",
       "      <th>2</th>\n",
       "      <td>92703</td>\n",
       "      <td>lybrel</td>\n",
       "      <td>birth control</td>\n",
       "      <td>used take another oral contraceptive 21 pill c...</td>\n",
       "      <td>17</td>\n",
       "      <td>0</td>\n",
       "      <td>2009</td>\n",
       "      <td>12</td>\n",
       "      <td>14</td>\n",
       "    </tr>\n",
       "    <tr>\n",
       "      <th>3</th>\n",
       "      <td>138000</td>\n",
       "      <td>ortho evra</td>\n",
       "      <td>birth control</td>\n",
       "      <td>first time using form birth control 039 glad w...</td>\n",
       "      <td>10</td>\n",
       "      <td>1</td>\n",
       "      <td>2015</td>\n",
       "      <td>11</td>\n",
       "      <td>3</td>\n",
       "    </tr>\n",
       "    <tr>\n",
       "      <th>4</th>\n",
       "      <td>35696</td>\n",
       "      <td>buprenorphine naloxone</td>\n",
       "      <td>opiate dependence</td>\n",
       "      <td>suboxone completely turned life around feel he...</td>\n",
       "      <td>37</td>\n",
       "      <td>1</td>\n",
       "      <td>2016</td>\n",
       "      <td>11</td>\n",
       "      <td>27</td>\n",
       "    </tr>\n",
       "    <tr>\n",
       "      <th>5</th>\n",
       "      <td>155963</td>\n",
       "      <td>cialis</td>\n",
       "      <td>benign prostatic hyperplasia</td>\n",
       "      <td>2nd day 5mg started work rock hard erections h...</td>\n",
       "      <td>43</td>\n",
       "      <td>0</td>\n",
       "      <td>2015</td>\n",
       "      <td>11</td>\n",
       "      <td>28</td>\n",
       "    </tr>\n",
       "    <tr>\n",
       "      <th>6</th>\n",
       "      <td>165907</td>\n",
       "      <td>levonorgestrel</td>\n",
       "      <td>emergency contraception</td>\n",
       "      <td>pulled cummed bit took plan b 26 hours later t...</td>\n",
       "      <td>5</td>\n",
       "      <td>0</td>\n",
       "      <td>2017</td>\n",
       "      <td>3</td>\n",
       "      <td>7</td>\n",
       "    </tr>\n",
       "    <tr>\n",
       "      <th>7</th>\n",
       "      <td>102654</td>\n",
       "      <td>aripiprazole</td>\n",
       "      <td>bipolar disorde</td>\n",
       "      <td>abilify changed life hope zoloft clonidine fir...</td>\n",
       "      <td>32</td>\n",
       "      <td>1</td>\n",
       "      <td>2015</td>\n",
       "      <td>3</td>\n",
       "      <td>14</td>\n",
       "    </tr>\n",
       "    <tr>\n",
       "      <th>8</th>\n",
       "      <td>74811</td>\n",
       "      <td>keppra</td>\n",
       "      <td>epilepsy</td>\n",
       "      <td>nothing problems keppera constant shaking arms...</td>\n",
       "      <td>11</td>\n",
       "      <td>0</td>\n",
       "      <td>2016</td>\n",
       "      <td>8</td>\n",
       "      <td>9</td>\n",
       "    </tr>\n",
       "    <tr>\n",
       "      <th>9</th>\n",
       "      <td>48928</td>\n",
       "      <td>ethinyl estradiol levonorgestrel</td>\n",
       "      <td>birth control</td>\n",
       "      <td>pill many years doctor changed rx chateal effe...</td>\n",
       "      <td>1</td>\n",
       "      <td>1</td>\n",
       "      <td>2016</td>\n",
       "      <td>12</td>\n",
       "      <td>8</td>\n",
       "    </tr>\n",
       "    <tr>\n",
       "      <th>10</th>\n",
       "      <td>29607</td>\n",
       "      <td>topiramate</td>\n",
       "      <td>migraine prevention</td>\n",
       "      <td>medication almost two weeks started 25mg worki...</td>\n",
       "      <td>19</td>\n",
       "      <td>1</td>\n",
       "      <td>2015</td>\n",
       "      <td>1</td>\n",
       "      <td>1</td>\n",
       "    </tr>\n",
       "    <tr>\n",
       "      <th>11</th>\n",
       "      <td>75612</td>\n",
       "      <td>l methylfolate</td>\n",
       "      <td>depression</td>\n",
       "      <td>taken anti depressants years improvement mostl...</td>\n",
       "      <td>54</td>\n",
       "      <td>1</td>\n",
       "      <td>2017</td>\n",
       "      <td>3</td>\n",
       "      <td>9</td>\n",
       "    </tr>\n",
       "    <tr>\n",
       "      <th>12</th>\n",
       "      <td>191290</td>\n",
       "      <td>pentasa</td>\n",
       "      <td>crohn disease</td>\n",
       "      <td>crohn 039 resection 30 years ago mostly remiss...</td>\n",
       "      <td>8</td>\n",
       "      <td>0</td>\n",
       "      <td>2013</td>\n",
       "      <td>7</td>\n",
       "      <td>6</td>\n",
       "    </tr>\n",
       "    <tr>\n",
       "      <th>13</th>\n",
       "      <td>221320</td>\n",
       "      <td>dextromethorphan</td>\n",
       "      <td>cough</td>\n",
       "      <td>little bit lingering cough cold giving much tr...</td>\n",
       "      <td>1</td>\n",
       "      <td>0</td>\n",
       "      <td>2017</td>\n",
       "      <td>9</td>\n",
       "      <td>7</td>\n",
       "    </tr>\n",
       "    <tr>\n",
       "      <th>14</th>\n",
       "      <td>98494</td>\n",
       "      <td>nexplanon</td>\n",
       "      <td>birth control</td>\n",
       "      <td>started nexplanon 2 months ago minimal amount ...</td>\n",
       "      <td>10</td>\n",
       "      <td>0</td>\n",
       "      <td>2014</td>\n",
       "      <td>8</td>\n",
       "      <td>7</td>\n",
       "    </tr>\n",
       "    <tr>\n",
       "      <th>15</th>\n",
       "      <td>81890</td>\n",
       "      <td>liraglutide</td>\n",
       "      <td>obesity</td>\n",
       "      <td>taking saxenda since july 2016 severe nausea m...</td>\n",
       "      <td>20</td>\n",
       "      <td>1</td>\n",
       "      <td>2017</td>\n",
       "      <td>1</td>\n",
       "      <td>19</td>\n",
       "    </tr>\n",
       "    <tr>\n",
       "      <th>16</th>\n",
       "      <td>48188</td>\n",
       "      <td>trimethoprim</td>\n",
       "      <td>urinary tract infection</td>\n",
       "      <td>drug worked well cleared uti matter 48hrs alth...</td>\n",
       "      <td>0</td>\n",
       "      <td>1</td>\n",
       "      <td>2017</td>\n",
       "      <td>9</td>\n",
       "      <td>22</td>\n",
       "    </tr>\n",
       "    <tr>\n",
       "      <th>17</th>\n",
       "      <td>219869</td>\n",
       "      <td>amitriptyline</td>\n",
       "      <td>ibromyalgia</td>\n",
       "      <td>039 taking amitriptyline since january 2013 di...</td>\n",
       "      <td>39</td>\n",
       "      <td>1</td>\n",
       "      <td>2017</td>\n",
       "      <td>3</td>\n",
       "      <td>15</td>\n",
       "    </tr>\n",
       "    <tr>\n",
       "      <th>18</th>\n",
       "      <td>212077</td>\n",
       "      <td>lamotrigine</td>\n",
       "      <td>bipolar disorde</td>\n",
       "      <td>039 every medicine sun seems manage hypomania ...</td>\n",
       "      <td>18</td>\n",
       "      <td>1</td>\n",
       "      <td>2014</td>\n",
       "      <td>11</td>\n",
       "      <td>9</td>\n",
       "    </tr>\n",
       "    <tr>\n",
       "      <th>19</th>\n",
       "      <td>119705</td>\n",
       "      <td>nilotinib</td>\n",
       "      <td>chronic myelogenous leukemia</td>\n",
       "      <td>tasigna 3 years 300mg x 2 times day tasigna wo...</td>\n",
       "      <td>11</td>\n",
       "      <td>1</td>\n",
       "      <td>2015</td>\n",
       "      <td>9</td>\n",
       "      <td>1</td>\n",
       "    </tr>\n",
       "  </tbody>\n",
       "</table>\n",
       "</div>"
      ],
      "text/plain": [
       "    uniqueID                          drugName                     condition  \\\n",
       "0     206461                         valsartan  left ventricular dysfunction   \n",
       "1      95260                        guanfacine                          adhd   \n",
       "2      92703                            lybrel                 birth control   \n",
       "3     138000                        ortho evra                 birth control   \n",
       "4      35696            buprenorphine naloxone             opiate dependence   \n",
       "5     155963                            cialis  benign prostatic hyperplasia   \n",
       "6     165907                    levonorgestrel       emergency contraception   \n",
       "7     102654                      aripiprazole               bipolar disorde   \n",
       "8      74811                            keppra                      epilepsy   \n",
       "9      48928  ethinyl estradiol levonorgestrel                 birth control   \n",
       "10     29607                        topiramate           migraine prevention   \n",
       "11     75612                    l methylfolate                    depression   \n",
       "12    191290                           pentasa                 crohn disease   \n",
       "13    221320                  dextromethorphan                         cough   \n",
       "14     98494                         nexplanon                 birth control   \n",
       "15     81890                       liraglutide                       obesity   \n",
       "16     48188                      trimethoprim       urinary tract infection   \n",
       "17    219869                     amitriptyline                   ibromyalgia   \n",
       "18    212077                       lamotrigine               bipolar disorde   \n",
       "19    119705                         nilotinib  chronic myelogenous leukemia   \n",
       "\n",
       "                                               review  usefulCount  Rating  \\\n",
       "0   side effect take combination bystolic 5 mg fis...           27       1   \n",
       "1   son halfway fourth week intuniv became concern...          192       1   \n",
       "2   used take another oral contraceptive 21 pill c...           17       0   \n",
       "3   first time using form birth control 039 glad w...           10       1   \n",
       "4   suboxone completely turned life around feel he...           37       1   \n",
       "5   2nd day 5mg started work rock hard erections h...           43       0   \n",
       "6   pulled cummed bit took plan b 26 hours later t...            5       0   \n",
       "7   abilify changed life hope zoloft clonidine fir...           32       1   \n",
       "8   nothing problems keppera constant shaking arms...           11       0   \n",
       "9   pill many years doctor changed rx chateal effe...            1       1   \n",
       "10  medication almost two weeks started 25mg worki...           19       1   \n",
       "11  taken anti depressants years improvement mostl...           54       1   \n",
       "12  crohn 039 resection 30 years ago mostly remiss...            8       0   \n",
       "13  little bit lingering cough cold giving much tr...            1       0   \n",
       "14  started nexplanon 2 months ago minimal amount ...           10       0   \n",
       "15  taking saxenda since july 2016 severe nausea m...           20       1   \n",
       "16  drug worked well cleared uti matter 48hrs alth...            0       1   \n",
       "17  039 taking amitriptyline since january 2013 di...           39       1   \n",
       "18  039 every medicine sun seems manage hypomania ...           18       1   \n",
       "19  tasigna 3 years 300mg x 2 times day tasigna wo...           11       1   \n",
       "\n",
       "    year  month  day  \n",
       "0   2012      5   20  \n",
       "1   2010      4   27  \n",
       "2   2009     12   14  \n",
       "3   2015     11    3  \n",
       "4   2016     11   27  \n",
       "5   2015     11   28  \n",
       "6   2017      3    7  \n",
       "7   2015      3   14  \n",
       "8   2016      8    9  \n",
       "9   2016     12    8  \n",
       "10  2015      1    1  \n",
       "11  2017      3    9  \n",
       "12  2013      7    6  \n",
       "13  2017      9    7  \n",
       "14  2014      8    7  \n",
       "15  2017      1   19  \n",
       "16  2017      9   22  \n",
       "17  2017      3   15  \n",
       "18  2014     11    9  \n",
       "19  2015      9    1  "
      ]
     },
     "execution_count": 7,
     "metadata": {},
     "output_type": "execute_result"
    }
   ],
   "source": [
    "df.head(20)"
   ]
  },
  {
   "cell_type": "code",
   "execution_count": 6,
   "id": "5a3ad2b0",
   "metadata": {},
   "outputs": [],
   "source": [
    "#normalizing the column having numeric data\n",
    "from sklearn.preprocessing import Normalizer\n",
    "normalizer = Normalizer()"
   ]
  },
  {
   "cell_type": "code",
   "execution_count": 37,
   "id": "bce50f77",
   "metadata": {},
   "outputs": [],
   "source": [
    "normalizer.fit(X_train['uniqueID'].values.reshape(-1, 1))\n",
    "X_train_normalized_uniqueID = normalizer.transform(X_train['uniqueID'].values.reshape(-1,1))\n",
    "X_test_normalized_uniqueID = normalizer.transform(X_test['uniqueID'].values.reshape(-1,1))\n",
    "\n",
    "normalizer.fit(X_train['usefulCount'].values.reshape(-1, 1))\n",
    "X_train_normalized_usefulCount = normalizer.transform(X_train['usefulCount'].values.reshape(-1,1))\n",
    "X_test_normalized_usefulCount = normalizer.transform(X_test['usefulCount'].values.reshape(-1,1))\n",
    "\n",
    "normalizer.fit(X_train['year'].values.reshape(-1, 1))\n",
    "X_train_normalized_year = normalizer.transform(X_train['year'].values.reshape(-1,1))\n",
    "X_test_normalized_year = normalizer.transform(X_test['year'].values.reshape(-1,1))\n",
    "\n",
    "normalizer.fit(X_train['month'].values.reshape(-1, 1))\n",
    "X_train_normalized_month = normalizer.transform(X_train['month'].values.reshape(-1,1))\n",
    "X_test_normalized_month = normalizer.transform(X_test['month'].values.reshape(-1,1))\n",
    "\n",
    "normalizer.fit(X_train['day'].values.reshape(-1, 1))\n",
    "X_train_normalized_day = normalizer.transform(X_train['day'].values.reshape(-1,1))\n",
    "X_test_normalized_day = normalizer.transform(X_test['day'].values.reshape(-1,1))"
   ]
  },
  {
   "cell_type": "code",
   "execution_count": 38,
   "id": "e8589715",
   "metadata": {},
   "outputs": [],
   "source": [
    "#Response Coding\n",
    "def responsedict(feature):\n",
    "    #unique values of feature\n",
    "    unique_labels = X_train[feature].unique()\n",
    "    key = []\n",
    "    val =[]\n",
    "    for i in unique_labels:\n",
    "       \n",
    "        #Count where the target_variable is 1.\n",
    "        positive = X_train.loc[:,feature][((X_train[feature] == i) & (y_train == 1))].count()\n",
    "        #Count where the target_variable is 0.\n",
    "        negative = X_train.loc[:,feature][((X_train[feature] == i) & (y_train == 0))].count()\n",
    "        total_count = positive + negative\n",
    "        #negative probability\n",
    "        neg_prob = negative/total_count\n",
    "        #positive probability\n",
    "        pos_prob = positive/total_count\n",
    "        key.append(i)\n",
    "        val.append([neg_prob,pos_prob])\n",
    "        \n",
    "    prob_dict = dict(zip(key,val))\n",
    "    \n",
    "    return prob_dict\n",
    "\n",
    "def feature_name(feature,df):\n",
    "    feature_dict = responsedict(feature)\n",
    "    #print(feature_dict)\n",
    "    unique_label = X_train[feature].unique()\n",
    "    fea = []\n",
    "    for i,val  in df.iterrows():\n",
    "        if val[feature] in unique_label:\n",
    "            fea.append(feature_dict[val[feature]])\n",
    "        else:\n",
    "            fea.append([0.5,0.5])\n",
    "   \n",
    "    return fea"
   ]
  },
  {
   "cell_type": "code",
   "execution_count": 39,
   "id": "c5af90ce",
   "metadata": {},
   "outputs": [],
   "source": [
    "def hotencoder(dfeature):\n",
    "    labelencoder = LabelEncoder()\n",
    "    int_label_sub = labelencoder.fit_transform(dfeature)\n",
    "    int_labe_sub = int_label_sub.reshape(len(int_label_sub),1)\n",
    "    one_hot_encod_sub = OneHotEncoder(sparse=False)\n",
    "    one_hot_enc = one_hot_encod_sub.fit_transform(int_labe_sub)\n",
    "    return one_hot_enc"
   ]
  },
  {
   "cell_type": "code",
   "execution_count": 40,
   "id": "c4a06031",
   "metadata": {},
   "outputs": [
    {
     "data": {
      "image/png": "[encoded data removed]",
      "text/plain": [
       "<Figure size 1224x1080 with 2 Axes>"
      ]
     },
     "metadata": {},
     "output_type": "display_data"
    }
   ],
   "source": [
    "# Correlation Heatmap of the features engineered\n",
    "plt.rcParams['figure.figsize'] = [17,15]\n",
    "sns.set(font_scale = 1.2)\n",
    "corr = df.select_dtypes(include = 'int64').corr()\n",
    "sns_ = sns.heatmap(corr, annot = True, cmap = 'YlGnBu')\n",
    "plt.setp(sns_.get_xticklabels(), rotation = 45);"
   ]
  },
  {
   "cell_type": "code",
   "execution_count": 42,
   "id": "e1b2f367",
   "metadata": {},
   "outputs": [],
   "source": [
    "# Label Encoding Drugname and Conditions\n",
    "from sklearn.preprocessing import LabelEncoder\n",
    "label_encoder_feat = {}\n",
    "for feature in ['drugName', 'condition']:\n",
    "    label_encoder_feat[feature] = LabelEncoder()\n",
    "    df[feature] = label_encoder_feat[feature].fit_transform(df[feature])"
   ]
  },
  {
   "cell_type": "code",
   "execution_count": 44,
   "id": "95499734",
   "metadata": {},
   "outputs": [
    {
     "name": "stdout",
     "output_type": "stream",
     "text": [
      "One-Hot Encoding\n",
      "On Train\n"
     ]
    },
    {
     "data": {
      "text/html": [
       "<div>\n",
       "<style scoped>\n",
       "    .dataframe tbody tr th:only-of-type {\n",
       "        vertical-align: middle;\n",
       "    }\n",
       "\n",
       "    .dataframe tbody tr th {\n",
       "        vertical-align: top;\n",
       "    }\n",
       "\n",
       "    .dataframe thead th {\n",
       "        text-align: right;\n",
       "    }\n",
       "</style>\n",
       "<table border=\"1\" class=\"dataframe\">\n",
       "  <thead>\n",
       "    <tr style=\"text-align: right;\">\n",
       "      <th></th>\n",
       "      <th>uniqueID</th>\n",
       "      <th>drugName</th>\n",
       "      <th>condition</th>\n",
       "      <th>review</th>\n",
       "      <th>usefulCount</th>\n",
       "      <th>year</th>\n",
       "      <th>month</th>\n",
       "      <th>day</th>\n",
       "      <th>Rating_0</th>\n",
       "      <th>Rating_1</th>\n",
       "    </tr>\n",
       "  </thead>\n",
       "  <tbody>\n",
       "    <tr>\n",
       "      <th>111290</th>\n",
       "      <td>54710</td>\n",
       "      <td>bupropion naltrexone</td>\n",
       "      <td>obesity</td>\n",
       "      <td>started contrave today 039 5 039 8 female weig...</td>\n",
       "      <td>7</td>\n",
       "      <td>2017</td>\n",
       "      <td>3</td>\n",
       "      <td>27</td>\n",
       "      <td>1</td>\n",
       "      <td>0</td>\n",
       "    </tr>\n",
       "    <tr>\n",
       "      <th>128137</th>\n",
       "      <td>169287</td>\n",
       "      <td>diprivan</td>\n",
       "      <td>anesthesia</td>\n",
       "      <td>pain doctor gave 12 shots cervical spinal nerv...</td>\n",
       "      <td>24</td>\n",
       "      <td>2009</td>\n",
       "      <td>3</td>\n",
       "      <td>20</td>\n",
       "      <td>1</td>\n",
       "      <td>0</td>\n",
       "    </tr>\n",
       "    <tr>\n",
       "      <th>35049</th>\n",
       "      <td>225908</td>\n",
       "      <td>bupropion</td>\n",
       "      <td>bipolar disorde</td>\n",
       "      <td>tons better medicines like paxil depakote slee...</td>\n",
       "      <td>36</td>\n",
       "      <td>2010</td>\n",
       "      <td>3</td>\n",
       "      <td>6</td>\n",
       "      <td>0</td>\n",
       "      <td>1</td>\n",
       "    </tr>\n",
       "    <tr>\n",
       "      <th>97658</th>\n",
       "      <td>25987</td>\n",
       "      <td>kapvay</td>\n",
       "      <td>adhd</td>\n",
       "      <td>9 year old son adhd kapvay seventh medicine tr...</td>\n",
       "      <td>157</td>\n",
       "      <td>2012</td>\n",
       "      <td>5</td>\n",
       "      <td>15</td>\n",
       "      <td>0</td>\n",
       "      <td>1</td>\n",
       "    </tr>\n",
       "    <tr>\n",
       "      <th>154121</th>\n",
       "      <td>200233</td>\n",
       "      <td>varenicline</td>\n",
       "      <td>smoking cessation</td>\n",
       "      <td>fantastic quit smoking 20 years</td>\n",
       "      <td>22</td>\n",
       "      <td>2015</td>\n",
       "      <td>4</td>\n",
       "      <td>2</td>\n",
       "      <td>0</td>\n",
       "      <td>1</td>\n",
       "    </tr>\n",
       "  </tbody>\n",
       "</table>\n",
       "</div>"
      ],
      "text/plain": [
       "        uniqueID              drugName          condition  \\\n",
       "111290     54710  bupropion naltrexone            obesity   \n",
       "128137    169287              diprivan         anesthesia   \n",
       "35049     225908             bupropion    bipolar disorde   \n",
       "97658      25987                kapvay               adhd   \n",
       "154121    200233           varenicline  smoking cessation   \n",
       "\n",
       "                                                   review  usefulCount  year  \\\n",
       "111290  started contrave today 039 5 039 8 female weig...            7  2017   \n",
       "128137  pain doctor gave 12 shots cervical spinal nerv...           24  2009   \n",
       "35049   tons better medicines like paxil depakote slee...           36  2010   \n",
       "97658   9 year old son adhd kapvay seventh medicine tr...          157  2012   \n",
       "154121                    fantastic quit smoking 20 years           22  2015   \n",
       "\n",
       "        month  day  Rating_0  Rating_1  \n",
       "111290      3   27         1         0  \n",
       "128137      3   20         1         0  \n",
       "35049       3    6         0         1  \n",
       "97658       5   15         0         1  \n",
       "154121      4    2         0         1  "
      ]
     },
     "execution_count": 44,
     "metadata": {},
     "output_type": "execute_result"
    }
   ],
   "source": [
    "print('One-Hot Encoding')\n",
    "train = pd.get_dummies(X_train, columns = ['Rating'])\n",
    "print('On Train')\n",
    "train.head()"
   ]
  },
  {
   "cell_type": "code",
   "execution_count": 50,
   "id": "9beac62b",
   "metadata": {},
   "outputs": [
    {
     "name": "stdout",
     "output_type": "stream",
     "text": [
      "Rating (127598, 2)\n"
     ]
    }
   ],
   "source": [
    "#one hot encoding\n",
    "one_hot_enc_product_train =  hotencoder(X_train['Rating'])\n",
    "one_hot_enc_product_test =  hotencoder(X_test['Rating'])\n",
    "print(\"Rating\",one_hot_enc_product_train.shape)"
   ]
  },
  {
   "cell_type": "code",
   "execution_count": 51,
   "id": "d81cdb6d",
   "metadata": {},
   "outputs": [
    {
     "name": "stdout",
     "output_type": "stream",
     "text": [
      "(127598, 2)\n",
      "(31900, 2)\n"
     ]
    }
   ],
   "source": [
    "#response coding\n",
    "train_product_responseCoding=np.array(feature_name('Rating',X_train))\n",
    "print(train_product_responseCoding.shape)\n",
    "test_tproduct_responseCoding=np.array(feature_name('Rating',X_test))\n",
    "print(test_tproduct_responseCoding.shape)"
   ]
  },
  {
   "cell_type": "code",
   "execution_count": 53,
   "id": "15a16b63",
   "metadata": {},
   "outputs": [
    {
     "name": "stdout",
     "output_type": "stream",
     "text": [
      "(255196,)\n",
      "(63800,)\n"
     ]
    }
   ],
   "source": [
    "OneTrainXi = np.hstack((one_hot_enc_product_train))\n",
    "OneTestXi = np.hstack((one_hot_enc_product_test))\n",
    "print(OneTrainXi.shape)\n",
    "print(OneTestXi.shape)\n",
    "                        "
   ]
  },
  {
   "cell_type": "code",
   "execution_count": 54,
   "id": "a54046bc",
   "metadata": {},
   "outputs": [
    {
     "ename": "ModuleNotFoundError",
     "evalue": "No module named 'imblearn'",
     "output_type": "error",
     "traceback": [
      "\u001b[1;31m---------------------------------------------------------------------------\u001b[0m",
      "\u001b[1;31mModuleNotFoundError\u001b[0m                       Traceback (most recent call last)",
      "Input \u001b[1;32mIn [54]\u001b[0m, in \u001b[0;36m<cell line: 1>\u001b[1;34m()\u001b[0m\n\u001b[1;32m----> 1\u001b[0m \u001b[38;5;28;01mfrom\u001b[39;00m \u001b[38;5;21;01mimblearn\u001b[39;00m\u001b[38;5;21;01m.\u001b[39;00m\u001b[38;5;21;01mover_sampling\u001b[39;00m \u001b[38;5;28;01mimport\u001b[39;00m SMOTE\n\u001b[0;32m      3\u001b[0m \u001b[38;5;66;03m#from sklearn.utils.metaestimators import available_if\u001b[39;00m\n\u001b[0;32m      4\u001b[0m ros \u001b[38;5;241m=\u001b[39mSMOTE(random_state\u001b[38;5;241m=\u001b[39m\u001b[38;5;241m777\u001b[39m)\n",
      "\u001b[1;31mModuleNotFoundError\u001b[0m: No module named 'imblearn'"
     ]
    }
   ],
   "source": [
    "from imblearn.over_sampling import SMOTE\n",
    "\n",
    "#from sklearn.utils.metaestimators import available_if\n",
    "ros =SMOTE(random_state=777)\n",
    "ros_xtrain, ros_train_y = ros.fit_resample(OneTrainXi, y_train)"
   ]
  },
  {
   "cell_type": "code",
   "execution_count": 48,
   "id": "f583f4f7",
   "metadata": {},
   "outputs": [
    {
     "ename": "ValueError",
     "evalue": "could not convert string to float: 'bupropion naltrexone'",
     "output_type": "error",
     "traceback": [
      "\u001b[1;31m---------------------------------------------------------------------------\u001b[0m",
      "\u001b[1;31mValueError\u001b[0m                                Traceback (most recent call last)",
      "Input \u001b[1;32mIn [48]\u001b[0m, in \u001b[0;36m<cell line: 10>\u001b[1;34m()\u001b[0m\n\u001b[0;32m      8\u001b[0m \u001b[38;5;66;03m#Random search\u001b[39;00m\n\u001b[0;32m      9\u001b[0m logreg_cv\u001b[38;5;241m=\u001b[39mRandomizedSearchCV(logreg,grid,cv\u001b[38;5;241m=\u001b[39m\u001b[38;5;241m10\u001b[39m)\n\u001b[1;32m---> 10\u001b[0m \u001b[43mlogreg_cv\u001b[49m\u001b[38;5;241;43m.\u001b[39;49m\u001b[43mfit\u001b[49m\u001b[43m(\u001b[49m\u001b[43mX_train\u001b[49m\u001b[43m,\u001b[49m\u001b[43m \u001b[49m\u001b[43my_train\u001b[49m\u001b[43m)\u001b[49m\n\u001b[0;32m     12\u001b[0m \u001b[38;5;28mprint\u001b[39m(\u001b[38;5;124m\"\u001b[39m\u001b[38;5;124mtuned hpyerparameters :(best parameters) \u001b[39m\u001b[38;5;124m\"\u001b[39m,logreg_cv\u001b[38;5;241m.\u001b[39mbest_params_)\n",
      "File \u001b[1;32m~\\anaconda3\\lib\\site-packages\\sklearn\\model_selection\\_search.py:926\u001b[0m, in \u001b[0;36mBaseSearchCV.fit\u001b[1;34m(self, X, y, groups, **fit_params)\u001b[0m\n\u001b[0;32m    924\u001b[0m refit_start_time \u001b[38;5;241m=\u001b[39m time\u001b[38;5;241m.\u001b[39mtime()\n\u001b[0;32m    925\u001b[0m \u001b[38;5;28;01mif\u001b[39;00m y \u001b[38;5;129;01mis\u001b[39;00m \u001b[38;5;129;01mnot\u001b[39;00m \u001b[38;5;28;01mNone\u001b[39;00m:\n\u001b[1;32m--> 926\u001b[0m     \u001b[38;5;28mself\u001b[39m\u001b[38;5;241m.\u001b[39mbest_estimator_\u001b[38;5;241m.\u001b[39mfit(X, y, \u001b[38;5;241m*\u001b[39m\u001b[38;5;241m*\u001b[39mfit_params)\n\u001b[0;32m    927\u001b[0m \u001b[38;5;28;01melse\u001b[39;00m:\n\u001b[0;32m    928\u001b[0m     \u001b[38;5;28mself\u001b[39m\u001b[38;5;241m.\u001b[39mbest_estimator_\u001b[38;5;241m.\u001b[39mfit(X, \u001b[38;5;241m*\u001b[39m\u001b[38;5;241m*\u001b[39mfit_params)\n",
      "File \u001b[1;32m~\\anaconda3\\lib\\site-packages\\sklearn\\linear_model\\_logistic.py:1508\u001b[0m, in \u001b[0;36mLogisticRegression.fit\u001b[1;34m(self, X, y, sample_weight)\u001b[0m\n\u001b[0;32m   1505\u001b[0m \u001b[38;5;28;01melse\u001b[39;00m:\n\u001b[0;32m   1506\u001b[0m     _dtype \u001b[38;5;241m=\u001b[39m [np\u001b[38;5;241m.\u001b[39mfloat64, np\u001b[38;5;241m.\u001b[39mfloat32]\n\u001b[1;32m-> 1508\u001b[0m X, y \u001b[38;5;241m=\u001b[39m \u001b[38;5;28;43mself\u001b[39;49m\u001b[38;5;241;43m.\u001b[39;49m\u001b[43m_validate_data\u001b[49m\u001b[43m(\u001b[49m\n\u001b[0;32m   1509\u001b[0m \u001b[43m    \u001b[49m\u001b[43mX\u001b[49m\u001b[43m,\u001b[49m\n\u001b[0;32m   1510\u001b[0m \u001b[43m    \u001b[49m\u001b[43my\u001b[49m\u001b[43m,\u001b[49m\n\u001b[0;32m   1511\u001b[0m \u001b[43m    \u001b[49m\u001b[43maccept_sparse\u001b[49m\u001b[38;5;241;43m=\u001b[39;49m\u001b[38;5;124;43m\"\u001b[39;49m\u001b[38;5;124;43mcsr\u001b[39;49m\u001b[38;5;124;43m\"\u001b[39;49m\u001b[43m,\u001b[49m\n\u001b[0;32m   1512\u001b[0m \u001b[43m    \u001b[49m\u001b[43mdtype\u001b[49m\u001b[38;5;241;43m=\u001b[39;49m\u001b[43m_dtype\u001b[49m\u001b[43m,\u001b[49m\n\u001b[0;32m   1513\u001b[0m \u001b[43m    \u001b[49m\u001b[43morder\u001b[49m\u001b[38;5;241;43m=\u001b[39;49m\u001b[38;5;124;43m\"\u001b[39;49m\u001b[38;5;124;43mC\u001b[39;49m\u001b[38;5;124;43m\"\u001b[39;49m\u001b[43m,\u001b[49m\n\u001b[0;32m   1514\u001b[0m \u001b[43m    \u001b[49m\u001b[43maccept_large_sparse\u001b[49m\u001b[38;5;241;43m=\u001b[39;49m\u001b[43msolver\u001b[49m\u001b[43m \u001b[49m\u001b[38;5;129;43;01mnot\u001b[39;49;00m\u001b[43m \u001b[49m\u001b[38;5;129;43;01min\u001b[39;49;00m\u001b[43m \u001b[49m\u001b[43m[\u001b[49m\u001b[38;5;124;43m\"\u001b[39;49m\u001b[38;5;124;43mliblinear\u001b[39;49m\u001b[38;5;124;43m\"\u001b[39;49m\u001b[43m,\u001b[49m\u001b[43m \u001b[49m\u001b[38;5;124;43m\"\u001b[39;49m\u001b[38;5;124;43msag\u001b[39;49m\u001b[38;5;124;43m\"\u001b[39;49m\u001b[43m,\u001b[49m\u001b[43m \u001b[49m\u001b[38;5;124;43m\"\u001b[39;49m\u001b[38;5;124;43msaga\u001b[39;49m\u001b[38;5;124;43m\"\u001b[39;49m\u001b[43m]\u001b[49m\u001b[43m,\u001b[49m\n\u001b[0;32m   1515\u001b[0m \u001b[43m\u001b[49m\u001b[43m)\u001b[49m\n\u001b[0;32m   1516\u001b[0m check_classification_targets(y)\n\u001b[0;32m   1517\u001b[0m \u001b[38;5;28mself\u001b[39m\u001b[38;5;241m.\u001b[39mclasses_ \u001b[38;5;241m=\u001b[39m np\u001b[38;5;241m.\u001b[39munique(y)\n",
      "File \u001b[1;32m~\\anaconda3\\lib\\site-packages\\sklearn\\base.py:581\u001b[0m, in \u001b[0;36mBaseEstimator._validate_data\u001b[1;34m(self, X, y, reset, validate_separately, **check_params)\u001b[0m\n\u001b[0;32m    579\u001b[0m         y \u001b[38;5;241m=\u001b[39m check_array(y, \u001b[38;5;241m*\u001b[39m\u001b[38;5;241m*\u001b[39mcheck_y_params)\n\u001b[0;32m    580\u001b[0m     \u001b[38;5;28;01melse\u001b[39;00m:\n\u001b[1;32m--> 581\u001b[0m         X, y \u001b[38;5;241m=\u001b[39m check_X_y(X, y, \u001b[38;5;241m*\u001b[39m\u001b[38;5;241m*\u001b[39mcheck_params)\n\u001b[0;32m    582\u001b[0m     out \u001b[38;5;241m=\u001b[39m X, y\n\u001b[0;32m    584\u001b[0m \u001b[38;5;28;01mif\u001b[39;00m \u001b[38;5;129;01mnot\u001b[39;00m no_val_X \u001b[38;5;129;01mand\u001b[39;00m check_params\u001b[38;5;241m.\u001b[39mget(\u001b[38;5;124m\"\u001b[39m\u001b[38;5;124mensure_2d\u001b[39m\u001b[38;5;124m\"\u001b[39m, \u001b[38;5;28;01mTrue\u001b[39;00m):\n",
      "File \u001b[1;32m~\\anaconda3\\lib\\site-packages\\sklearn\\utils\\validation.py:964\u001b[0m, in \u001b[0;36mcheck_X_y\u001b[1;34m(X, y, accept_sparse, accept_large_sparse, dtype, order, copy, force_all_finite, ensure_2d, allow_nd, multi_output, ensure_min_samples, ensure_min_features, y_numeric, estimator)\u001b[0m\n\u001b[0;32m    961\u001b[0m \u001b[38;5;28;01mif\u001b[39;00m y \u001b[38;5;129;01mis\u001b[39;00m \u001b[38;5;28;01mNone\u001b[39;00m:\n\u001b[0;32m    962\u001b[0m     \u001b[38;5;28;01mraise\u001b[39;00m \u001b[38;5;167;01mValueError\u001b[39;00m(\u001b[38;5;124m\"\u001b[39m\u001b[38;5;124my cannot be None\u001b[39m\u001b[38;5;124m\"\u001b[39m)\n\u001b[1;32m--> 964\u001b[0m X \u001b[38;5;241m=\u001b[39m \u001b[43mcheck_array\u001b[49m\u001b[43m(\u001b[49m\n\u001b[0;32m    965\u001b[0m \u001b[43m    \u001b[49m\u001b[43mX\u001b[49m\u001b[43m,\u001b[49m\n\u001b[0;32m    966\u001b[0m \u001b[43m    \u001b[49m\u001b[43maccept_sparse\u001b[49m\u001b[38;5;241;43m=\u001b[39;49m\u001b[43maccept_sparse\u001b[49m\u001b[43m,\u001b[49m\n\u001b[0;32m    967\u001b[0m \u001b[43m    \u001b[49m\u001b[43maccept_large_sparse\u001b[49m\u001b[38;5;241;43m=\u001b[39;49m\u001b[43maccept_large_sparse\u001b[49m\u001b[43m,\u001b[49m\n\u001b[0;32m    968\u001b[0m \u001b[43m    \u001b[49m\u001b[43mdtype\u001b[49m\u001b[38;5;241;43m=\u001b[39;49m\u001b[43mdtype\u001b[49m\u001b[43m,\u001b[49m\n\u001b[0;32m    969\u001b[0m \u001b[43m    \u001b[49m\u001b[43morder\u001b[49m\u001b[38;5;241;43m=\u001b[39;49m\u001b[43morder\u001b[49m\u001b[43m,\u001b[49m\n\u001b[0;32m    970\u001b[0m \u001b[43m    \u001b[49m\u001b[43mcopy\u001b[49m\u001b[38;5;241;43m=\u001b[39;49m\u001b[43mcopy\u001b[49m\u001b[43m,\u001b[49m\n\u001b[0;32m    971\u001b[0m \u001b[43m    \u001b[49m\u001b[43mforce_all_finite\u001b[49m\u001b[38;5;241;43m=\u001b[39;49m\u001b[43mforce_all_finite\u001b[49m\u001b[43m,\u001b[49m\n\u001b[0;32m    972\u001b[0m \u001b[43m    \u001b[49m\u001b[43mensure_2d\u001b[49m\u001b[38;5;241;43m=\u001b[39;49m\u001b[43mensure_2d\u001b[49m\u001b[43m,\u001b[49m\n\u001b[0;32m    973\u001b[0m \u001b[43m    \u001b[49m\u001b[43mallow_nd\u001b[49m\u001b[38;5;241;43m=\u001b[39;49m\u001b[43mallow_nd\u001b[49m\u001b[43m,\u001b[49m\n\u001b[0;32m    974\u001b[0m \u001b[43m    \u001b[49m\u001b[43mensure_min_samples\u001b[49m\u001b[38;5;241;43m=\u001b[39;49m\u001b[43mensure_min_samples\u001b[49m\u001b[43m,\u001b[49m\n\u001b[0;32m    975\u001b[0m \u001b[43m    \u001b[49m\u001b[43mensure_min_features\u001b[49m\u001b[38;5;241;43m=\u001b[39;49m\u001b[43mensure_min_features\u001b[49m\u001b[43m,\u001b[49m\n\u001b[0;32m    976\u001b[0m \u001b[43m    \u001b[49m\u001b[43mestimator\u001b[49m\u001b[38;5;241;43m=\u001b[39;49m\u001b[43mestimator\u001b[49m\u001b[43m,\u001b[49m\n\u001b[0;32m    977\u001b[0m \u001b[43m\u001b[49m\u001b[43m)\u001b[49m\n\u001b[0;32m    979\u001b[0m y \u001b[38;5;241m=\u001b[39m _check_y(y, multi_output\u001b[38;5;241m=\u001b[39mmulti_output, y_numeric\u001b[38;5;241m=\u001b[39my_numeric)\n\u001b[0;32m    981\u001b[0m check_consistent_length(X, y)\n",
      "File \u001b[1;32m~\\anaconda3\\lib\\site-packages\\sklearn\\utils\\validation.py:746\u001b[0m, in \u001b[0;36mcheck_array\u001b[1;34m(array, accept_sparse, accept_large_sparse, dtype, order, copy, force_all_finite, ensure_2d, allow_nd, ensure_min_samples, ensure_min_features, estimator)\u001b[0m\n\u001b[0;32m    744\u001b[0m         array \u001b[38;5;241m=\u001b[39m array\u001b[38;5;241m.\u001b[39mastype(dtype, casting\u001b[38;5;241m=\u001b[39m\u001b[38;5;124m\"\u001b[39m\u001b[38;5;124munsafe\u001b[39m\u001b[38;5;124m\"\u001b[39m, copy\u001b[38;5;241m=\u001b[39m\u001b[38;5;28;01mFalse\u001b[39;00m)\n\u001b[0;32m    745\u001b[0m     \u001b[38;5;28;01melse\u001b[39;00m:\n\u001b[1;32m--> 746\u001b[0m         array \u001b[38;5;241m=\u001b[39m \u001b[43mnp\u001b[49m\u001b[38;5;241;43m.\u001b[39;49m\u001b[43masarray\u001b[49m\u001b[43m(\u001b[49m\u001b[43marray\u001b[49m\u001b[43m,\u001b[49m\u001b[43m \u001b[49m\u001b[43morder\u001b[49m\u001b[38;5;241;43m=\u001b[39;49m\u001b[43morder\u001b[49m\u001b[43m,\u001b[49m\u001b[43m \u001b[49m\u001b[43mdtype\u001b[49m\u001b[38;5;241;43m=\u001b[39;49m\u001b[43mdtype\u001b[49m\u001b[43m)\u001b[49m\n\u001b[0;32m    747\u001b[0m \u001b[38;5;28;01mexcept\u001b[39;00m ComplexWarning \u001b[38;5;28;01mas\u001b[39;00m complex_warning:\n\u001b[0;32m    748\u001b[0m     \u001b[38;5;28;01mraise\u001b[39;00m \u001b[38;5;167;01mValueError\u001b[39;00m(\n\u001b[0;32m    749\u001b[0m         \u001b[38;5;124m\"\u001b[39m\u001b[38;5;124mComplex data not supported\u001b[39m\u001b[38;5;130;01m\\n\u001b[39;00m\u001b[38;5;132;01m{}\u001b[39;00m\u001b[38;5;130;01m\\n\u001b[39;00m\u001b[38;5;124m\"\u001b[39m\u001b[38;5;241m.\u001b[39mformat(array)\n\u001b[0;32m    750\u001b[0m     ) \u001b[38;5;28;01mfrom\u001b[39;00m \u001b[38;5;21;01mcomplex_warning\u001b[39;00m\n",
      "File \u001b[1;32m~\\anaconda3\\lib\\site-packages\\pandas\\core\\generic.py:2064\u001b[0m, in \u001b[0;36mNDFrame.__array__\u001b[1;34m(self, dtype)\u001b[0m\n\u001b[0;32m   2063\u001b[0m \u001b[38;5;28;01mdef\u001b[39;00m \u001b[38;5;21m__array__\u001b[39m(\u001b[38;5;28mself\u001b[39m, dtype: npt\u001b[38;5;241m.\u001b[39mDTypeLike \u001b[38;5;241m|\u001b[39m \u001b[38;5;28;01mNone\u001b[39;00m \u001b[38;5;241m=\u001b[39m \u001b[38;5;28;01mNone\u001b[39;00m) \u001b[38;5;241m-\u001b[39m\u001b[38;5;241m>\u001b[39m np\u001b[38;5;241m.\u001b[39mndarray:\n\u001b[1;32m-> 2064\u001b[0m     \u001b[38;5;28;01mreturn\u001b[39;00m \u001b[43mnp\u001b[49m\u001b[38;5;241;43m.\u001b[39;49m\u001b[43masarray\u001b[49m\u001b[43m(\u001b[49m\u001b[38;5;28;43mself\u001b[39;49m\u001b[38;5;241;43m.\u001b[39;49m\u001b[43m_values\u001b[49m\u001b[43m,\u001b[49m\u001b[43m \u001b[49m\u001b[43mdtype\u001b[49m\u001b[38;5;241;43m=\u001b[39;49m\u001b[43mdtype\u001b[49m\u001b[43m)\u001b[49m\n",
      "\u001b[1;31mValueError\u001b[0m: could not convert string to float: 'bupropion naltrexone'"
     ]
    }
   ],
   "source": [
    "from sklearn.linear_model import LogisticRegression\n",
    "# dict of parameters\n",
    "grid={\"C\":np.logspace(-3,3,7),\n",
    "     \"solver\" : ['newton-cg', 'lbfgs', 'liblinear', 'sag', 'saga'],\n",
    "     \"penalty\": ['l1', 'l2'],\n",
    "     \"max_iter\": [100,200,300]}\n",
    "logreg=LogisticRegression()\n",
    "#Random search\n",
    "logreg_cv=RandomizedSearchCV(logreg,grid,cv=10)\n",
    "logreg_cv.fit(X_train, y_train)\n",
    "\n",
    "print(\"tuned hpyerparameters :(best parameters) \",logreg_cv.best_params_)"
   ]
  },
  {
   "cell_type": "code",
   "execution_count": null,
   "id": "b4248eca",
   "metadata": {},
   "outputs": [],
   "source": []
  },
  {
   "cell_type": "code",
   "execution_count": null,
   "id": "a9a13264",
   "metadata": {},
   "outputs": [],
   "source": []
  },
  {
   "cell_type": "code",
   "execution_count": 32,
   "id": "17996e71",
   "metadata": {},
   "outputs": [],
   "source": []
  },
  {
   "cell_type": "code",
   "execution_count": 33,
   "id": "9185b1c2",
   "metadata": {},
   "outputs": [],
   "source": []
  },
  {
   "cell_type": "code",
   "execution_count": null,
   "id": "cc0676fd",
   "metadata": {},
   "outputs": [],
   "source": []
  },
  {
   "cell_type": "code",
   "execution_count": null,
   "id": "d00c8cbc",
   "metadata": {},
   "outputs": [],
   "source": []
  },
  {
   "cell_type": "code",
   "execution_count": null,
   "id": "347cf283",
   "metadata": {},
   "outputs": [],
   "source": []
  },
  {
   "cell_type": "code",
   "execution_count": null,
   "id": "150fb00b",
   "metadata": {},
   "outputs": [],
   "source": []
  },
  {
   "cell_type": "code",
   "execution_count": null,
   "id": "a7036e7b",
   "metadata": {},
   "outputs": [],
   "source": []
  },
  {
   "cell_type": "code",
   "execution_count": null,
   "id": "b5426134",
   "metadata": {},
   "outputs": [],
   "source": []
  },
  {
   "cell_type": "code",
   "execution_count": null,
   "id": "5d933fd8",
   "metadata": {},
   "outputs": [],
   "source": []
  },
  {
   "cell_type": "code",
   "execution_count": null,
   "id": "f3cf394f",
   "metadata": {},
   "outputs": [],
   "source": []
  },
  {
   "cell_type": "code",
   "execution_count": null,
   "id": "6ea74a07",
   "metadata": {},
   "outputs": [],
   "source": []
  },
  {
   "cell_type": "code",
   "execution_count": null,
   "id": "14d5c6be",
   "metadata": {},
   "outputs": [],
   "source": []
  },
  {
   "cell_type": "code",
   "execution_count": null,
   "id": "8d29ef48",
   "metadata": {},
   "outputs": [],
   "source": []
  },
  {
   "cell_type": "code",
   "execution_count": null,
   "id": "a7facd9e",
   "metadata": {},
   "outputs": [],
   "source": []
  },
  {
   "cell_type": "code",
   "execution_count": null,
   "id": "bea4f9b8",
   "metadata": {},
   "outputs": [],
   "source": []
  },
  {
   "cell_type": "code",
   "execution_count": null,
   "id": "55b45d3d",
   "metadata": {},
   "outputs": [],
   "source": []
  },
  {
   "cell_type": "code",
   "execution_count": null,
   "id": "9508e267",
   "metadata": {},
   "outputs": [],
   "source": []
  },
  {
   "cell_type": "code",
   "execution_count": null,
   "id": "9414eb1b",
   "metadata": {},
   "outputs": [],
   "source": []
  },
  {
   "cell_type": "code",
   "execution_count": null,
   "id": "032345bc",
   "metadata": {},
   "outputs": [],
   "source": []
  },
  {
   "cell_type": "code",
   "execution_count": null,
   "id": "5074e315",
   "metadata": {},
   "outputs": [],
   "source": []
  },
  {
   "cell_type": "code",
   "execution_count": null,
   "id": "eb4d8d74",
   "metadata": {},
   "outputs": [],
   "source": []
  },
  {
   "cell_type": "code",
   "execution_count": null,
   "id": "7676cf49",
   "metadata": {},
   "outputs": [],
   "source": []
  },
  {
   "cell_type": "code",
   "execution_count": null,
   "id": "851ab9a5",
   "metadata": {},
   "outputs": [],
   "source": []
  },
  {
   "cell_type": "code",
   "execution_count": null,
   "id": "ca9ea426",
   "metadata": {},
   "outputs": [],
   "source": []
  },
  {
   "cell_type": "code",
   "execution_count": null,
   "id": "189598d6",
   "metadata": {},
   "outputs": [],
   "source": []
  },
  {
   "cell_type": "code",
   "execution_count": null,
   "id": "dbfdf035",
   "metadata": {},
   "outputs": [],
   "source": []
  },
  {
   "cell_type": "code",
   "execution_count": null,
   "id": "89f9b5a0",
   "metadata": {},
   "outputs": [],
   "source": []
  },
  {
   "cell_type": "code",
   "execution_count": null,
   "id": "78df4b92",
   "metadata": {},
   "outputs": [],
   "source": []
  },
  {
   "cell_type": "code",
   "execution_count": null,
   "id": "33140ec7",
   "metadata": {},
   "outputs": [],
   "source": []
  },
  {
   "cell_type": "code",
   "execution_count": null,
   "id": "f02958e2",
   "metadata": {},
   "outputs": [],
   "source": []
  },
  {
   "cell_type": "code",
   "execution_count": null,
   "id": "bb16c07e",
   "metadata": {},
   "outputs": [],
   "source": []
  },
  {
   "cell_type": "code",
   "execution_count": null,
   "id": "ba097730",
   "metadata": {},
   "outputs": [],
   "source": []
  },
  {
   "cell_type": "code",
   "execution_count": null,
   "id": "2861c67e",
   "metadata": {},
   "outputs": [],
   "source": []
  },
  {
   "cell_type": "code",
   "execution_count": null,
   "id": "843532c7",
   "metadata": {},
   "outputs": [],
   "source": []
  },
  {
   "cell_type": "code",
   "execution_count": null,
   "id": "bc8d5469",
   "metadata": {},
   "outputs": [],
   "source": []
  },
  {
   "cell_type": "code",
   "execution_count": null,
   "id": "1c724fc6",
   "metadata": {},
   "outputs": [],
   "source": []
  },
  {
   "cell_type": "code",
   "execution_count": null,
   "id": "f1e97f5c",
   "metadata": {},
   "outputs": [],
   "source": []
  },
  {
   "cell_type": "code",
   "execution_count": null,
   "id": "0652822d",
   "metadata": {},
   "outputs": [],
   "source": []
  },
  {
   "cell_type": "code",
   "execution_count": null,
   "id": "b40f32dc",
   "metadata": {},
   "outputs": [],
   "source": []
  },
  {
   "cell_type": "code",
   "execution_count": null,
   "id": "413f7bf9",
   "metadata": {},
   "outputs": [],
   "source": []
  },
  {
   "cell_type": "code",
   "execution_count": null,
   "id": "2c62c85b",
   "metadata": {},
   "outputs": [],
   "source": []
  },
  {
   "cell_type": "code",
   "execution_count": null,
   "id": "85ef0c42",
   "metadata": {},
   "outputs": [],
   "source": []
  },
  {
   "cell_type": "code",
   "execution_count": null,
   "id": "bc6dd542",
   "metadata": {},
   "outputs": [],
   "source": []
  },
  {
   "cell_type": "code",
   "execution_count": null,
   "id": "fd3c177c",
   "metadata": {},
   "outputs": [],
   "source": []
  },
  {
   "cell_type": "code",
   "execution_count": null,
   "id": "4ece9bd5",
   "metadata": {},
   "outputs": [],
   "source": []
  },
  {
   "cell_type": "code",
   "execution_count": null,
   "id": "5c6fe6bf",
   "metadata": {},
   "outputs": [],
   "source": []
  },
  {
   "cell_type": "code",
   "execution_count": null,
   "id": "fb360974",
   "metadata": {},
   "outputs": [],
   "source": []
  },
  {
   "cell_type": "code",
   "execution_count": null,
   "id": "4dde7097",
   "metadata": {},
   "outputs": [],
   "source": []
  },
  {
   "cell_type": "code",
   "execution_count": null,
   "id": "afa1ef71",
   "metadata": {},
   "outputs": [],
   "source": []
  },
  {
   "cell_type": "code",
   "execution_count": null,
   "id": "c07e957d",
   "metadata": {},
   "outputs": [],
   "source": []
  },
  {
   "cell_type": "code",
   "execution_count": null,
   "id": "c7d66572",
   "metadata": {},
   "outputs": [],
   "source": []
  },
  {
   "cell_type": "code",
   "execution_count": null,
   "id": "c4dcbd63",
   "metadata": {},
   "outputs": [],
   "source": []
  },
  {
   "cell_type": "code",
   "execution_count": null,
   "id": "c71490b8",
   "metadata": {},
   "outputs": [],
   "source": []
  },
  {
   "cell_type": "code",
   "execution_count": null,
   "id": "22e299cb",
   "metadata": {},
   "outputs": [],
   "source": []
  },
  {
   "cell_type": "code",
   "execution_count": null,
   "id": "34ef34fd",
   "metadata": {},
   "outputs": [],
   "source": []
  },
  {
   "cell_type": "code",
   "execution_count": null,
   "id": "e3e0dfcf",
   "metadata": {},
   "outputs": [],
   "source": []
  },
  {
   "cell_type": "code",
   "execution_count": null,
   "id": "7f0e2392",
   "metadata": {},
   "outputs": [],
   "source": []
  },
  {
   "cell_type": "code",
   "execution_count": null,
   "id": "c3ab76ef",
   "metadata": {},
   "outputs": [],
   "source": []
  },
  {
   "cell_type": "code",
   "execution_count": null,
   "id": "ed130ad8",
   "metadata": {},
   "outputs": [],
   "source": []
  },
  {
   "cell_type": "code",
   "execution_count": null,
   "id": "d658856c",
   "metadata": {},
   "outputs": [],
   "source": []
  },
  {
   "cell_type": "code",
   "execution_count": null,
   "id": "107008fa",
   "metadata": {},
   "outputs": [],
   "source": []
  },
  {
   "cell_type": "code",
   "execution_count": null,
   "id": "1b7da572",
   "metadata": {},
   "outputs": [],
   "source": []
  },
  {
   "cell_type": "code",
   "execution_count": null,
   "id": "8b599e6c",
   "metadata": {},
   "outputs": [],
   "source": []
  },
  {
   "cell_type": "code",
   "execution_count": null,
   "id": "75451f9d",
   "metadata": {},
   "outputs": [],
   "source": []
  },
  {
   "cell_type": "code",
   "execution_count": null,
   "id": "57c38081",
   "metadata": {},
   "outputs": [],
   "source": []
  },
  {
   "cell_type": "code",
   "execution_count": null,
   "id": "943289de",
   "metadata": {},
   "outputs": [],
   "source": []
  },
  {
   "cell_type": "code",
   "execution_count": null,
   "id": "e7761aa2",
   "metadata": {},
   "outputs": [],
   "source": []
  },
  {
   "cell_type": "code",
   "execution_count": null,
   "id": "c83ad8ab",
   "metadata": {},
   "outputs": [],
   "source": []
  },
  {
   "cell_type": "code",
   "execution_count": null,
   "id": "a4c53765",
   "metadata": {},
   "outputs": [],
   "source": []
  },
  {
   "cell_type": "code",
   "execution_count": null,
   "id": "6c5e2381",
   "metadata": {},
   "outputs": [],
   "source": []
  },
  {
   "cell_type": "code",
   "execution_count": null,
   "id": "df40e5c7",
   "metadata": {},
   "outputs": [],
   "source": []
  },
  {
   "cell_type": "code",
   "execution_count": null,
   "id": "3112533a",
   "metadata": {},
   "outputs": [],
   "source": []
  },
  {
   "cell_type": "code",
   "execution_count": null,
   "id": "31df63d3",
   "metadata": {},
   "outputs": [],
   "source": []
  },
  {
   "cell_type": "code",
   "execution_count": null,
   "id": "fa4fb3e7",
   "metadata": {},
   "outputs": [],
   "source": []
  },
  {
   "cell_type": "code",
   "execution_count": null,
   "id": "9de0c576",
   "metadata": {},
   "outputs": [],
   "source": []
  },
  {
   "cell_type": "code",
   "execution_count": null,
   "id": "5cc6792a",
   "metadata": {},
   "outputs": [],
   "source": []
  },
  {
   "cell_type": "code",
   "execution_count": null,
   "id": "3bc1e449",
   "metadata": {},
   "outputs": [],
   "source": []
  },
  {
   "cell_type": "code",
   "execution_count": null,
   "id": "c30724f5",
   "metadata": {},
   "outputs": [],
   "source": []
  },
  {
   "cell_type": "code",
   "execution_count": null,
   "id": "5008a69f",
   "metadata": {},
   "outputs": [],
   "source": []
  },
  {
   "cell_type": "code",
   "execution_count": null,
   "id": "c26452a9",
   "metadata": {},
   "outputs": [],
   "source": []
  },
  {
   "cell_type": "code",
   "execution_count": null,
   "id": "70e5ec10",
   "metadata": {},
   "outputs": [],
   "source": []
  },
  {
   "cell_type": "code",
   "execution_count": null,
   "id": "1679e9b9",
   "metadata": {},
   "outputs": [],
   "source": []
  },
  {
   "cell_type": "code",
   "execution_count": null,
   "id": "f992a02e",
   "metadata": {},
   "outputs": [],
   "source": []
  },
  {
   "cell_type": "code",
   "execution_count": null,
   "id": "7ade550e",
   "metadata": {},
   "outputs": [],
   "source": []
  },
  {
   "cell_type": "code",
   "execution_count": null,
   "id": "3da36a59",
   "metadata": {},
   "outputs": [],
   "source": []
  },
  {
   "cell_type": "code",
   "execution_count": null,
   "id": "993b59d1",
   "metadata": {},
   "outputs": [],
   "source": []
  },
  {
   "cell_type": "code",
   "execution_count": null,
   "id": "be0707b3",
   "metadata": {},
   "outputs": [],
   "source": []
  },
  {
   "cell_type": "code",
   "execution_count": null,
   "id": "e4fd4899",
   "metadata": {},
   "outputs": [],
   "source": []
  },
  {
   "cell_type": "code",
   "execution_count": null,
   "id": "d796a8db",
   "metadata": {},
   "outputs": [],
   "source": []
  },
  {
   "cell_type": "code",
   "execution_count": null,
   "id": "9fef01ae",
   "metadata": {},
   "outputs": [],
   "source": []
  },
  {
   "cell_type": "code",
   "execution_count": null,
   "id": "54c2c3bd",
   "metadata": {},
   "outputs": [],
   "source": []
  },
  {
   "cell_type": "code",
   "execution_count": null,
   "id": "3d9cae55",
   "metadata": {},
   "outputs": [],
   "source": []
  }
 ],
 "metadata": {
  "kernelspec": {
   "display_name": "Python 3 (ipykernel)",
   "language": "python",
   "name": "python3"
  },
  "language_info": {
   "codemirror_mode": {
    "name": "ipython",
    "version": 3
   },
   "file_extension": ".py",
   "mimetype": "text/x-python",
   "name": "python",
   "nbconvert_exporter": "python",
   "pygments_lexer": "ipython3",
   "version": "3.9.12"
  }
 },
 "nbformat": 4,
 "nbformat_minor": 5
}
