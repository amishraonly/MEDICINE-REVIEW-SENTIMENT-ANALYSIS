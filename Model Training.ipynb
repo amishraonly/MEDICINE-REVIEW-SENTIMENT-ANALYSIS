{
 "cells": [
  {
   "cell_type": "code",
   "execution_count": 1,
   "id": "0ecf92a3",
   "metadata": {},
   "outputs": [],
   "source": [
    "import numpy as np\n",
    "import pandas as pd\n",
    "from sklearn.model_selection import train_test_split\n",
    "from sklearn.preprocessing import StandardScaler,OneHotEncoder,LabelEncoder\n",
    "from sklearn.feature_extraction.text import TfidfVectorizer\n",
    "from sklearn.linear_model import LogisticRegression\n",
    "from sklearn.model_selection import RepeatedStratifiedKFold\n",
    "from sklearn.model_selection import RandomizedSearchCV\n",
    "from scipy.stats import loguniform\n",
    "from sklearn.metrics import confusion_matrix\n",
    "import matplotlib.pyplot as plt\n",
    "import seaborn as sns\n",
    "from sklearn import metrics\n",
    "from sklearn.metrics import roc_curve, auc\n",
    "from sklearn.metrics import roc_curve, roc_auc_score\n",
    "import warnings\n",
    "warnings.filterwarnings('ignore')\n",
    "from sklearn.ensemble import StackingClassifier\n",
    "from sklearn.model_selection import cross_val_score\n",
    "from sklearn.model_selection import RepeatedStratifiedKFold\n",
    "from sklearn.linear_model import LogisticRegression\n",
    "from sklearn.neighbors import KNeighborsClassifier\n",
    "from sklearn.tree import DecisionTreeClassifier\n",
    "from sklearn.svm import SVC\n",
    "from sklearn.naive_bayes import GaussianNB\n",
    "from matplotlib import pyplot\n",
    "from sklearn.model_selection import RandomizedSearchCV\n",
    "from sklearn.preprocessing import LabelEncoder\n",
    "from sklearn.preprocessing import OneHotEncoder"
   ]
  },
  {
   "cell_type": "code",
   "execution_count": 20,
   "id": "83b53117",
   "metadata": {},
   "outputs": [],
   "source": [
    "data = pd.read_csv('preprocessed_data.csv')"
   ]
  },
  {
   "cell_type": "code",
   "execution_count": 21,
   "id": "4577cea3",
   "metadata": {},
   "outputs": [
    {
     "name": "stdout",
     "output_type": "stream",
     "text": [
      "   uniqueID                          drugName                     condition  \\\n",
      "0    206461                         valsartan  left ventricular dysfunction   \n",
      "1     95260                        guanfacine                          adhd   \n",
      "2     92703                            lybrel                 birth control   \n",
      "3    138000                        ortho evra                 birth control   \n",
      "4     35696            buprenorphine naloxone             opiate dependence   \n",
      "5    155963                            cialis  benign prostatic hyperplasia   \n",
      "6    165907                    levonorgestrel       emergency contraception   \n",
      "7    102654                      aripiprazole               bipolar disorde   \n",
      "8     74811                            keppra                      epilepsy   \n",
      "9     48928  ethinyl estradiol levonorgestrel                 birth control   \n",
      "\n",
      "                                              review  usefulCount  Rating  \\\n",
      "0  side effect take combination bystolic 5 mg fis...           27       1   \n",
      "1  son halfway fourth week intuniv became concern...          192       1   \n",
      "2  used take another oral contraceptive 21 pill c...           17       0   \n",
      "3  first time using form birth control 039 glad w...           10       1   \n",
      "4  suboxone completely turned life around feel he...           37       1   \n",
      "5  2nd day 5mg started work rock hard erections h...           43       0   \n",
      "6  pulled cummed bit took plan b 26 hours later t...            5       0   \n",
      "7  abilify changed life hope zoloft clonidine fir...           32       1   \n",
      "8  nothing problems keppera constant shaking arms...           11       0   \n",
      "9  pill many years doctor changed rx chateal effe...            1       1   \n",
      "\n",
      "   year  month  day  \n",
      "0  2012      5   20  \n",
      "1  2010      4   27  \n",
      "2  2009     12   14  \n",
      "3  2015     11    3  \n",
      "4  2016     11   27  \n",
      "5  2015     11   28  \n",
      "6  2017      3    7  \n",
      "7  2015      3   14  \n",
      "8  2016      8    9  \n",
      "9  2016     12    8  \n"
     ]
    }
   ],
   "source": [
    "print(data.head(10))"
   ]
  },
  {
   "cell_type": "code",
   "execution_count": 22,
   "id": "91facf90",
   "metadata": {},
   "outputs": [
    {
     "name": "stdout",
     "output_type": "stream",
     "text": [
      "(159498, 9)\n"
     ]
    }
   ],
   "source": [
    "print(data.shape)"
   ]
  },
  {
   "cell_type": "code",
   "execution_count": 23,
   "id": "38102d0d",
   "metadata": {},
   "outputs": [
    {
     "name": "stdout",
     "output_type": "stream",
     "text": [
      "1    112003\n",
      "0     47495\n",
      "Name: Rating, dtype: int64\n"
     ]
    }
   ],
   "source": [
    "print(data['Rating'].value_counts())"
   ]
  },
  {
   "cell_type": "code",
   "execution_count": 24,
   "id": "c2bd6322",
   "metadata": {},
   "outputs": [
    {
     "name": "stdout",
     "output_type": "stream",
     "text": [
      "   uniqueID    drugName                     condition  \\\n",
      "0    206461   valsartan  left ventricular dysfunction   \n",
      "1     95260  guanfacine                          adhd   \n",
      "\n",
      "                                              review  usefulCount  Rating  \\\n",
      "0  side effect take combination bystolic 5 mg fis...           27       1   \n",
      "1  son halfway fourth week intuniv became concern...          192       1   \n",
      "\n",
      "   year  month  day  \n",
      "0  2012      5   20  \n",
      "1  2010      4   27  \n"
     ]
    }
   ],
   "source": [
    "print(data.head(2))"
   ]
  },
  {
   "cell_type": "code",
   "execution_count": 25,
   "id": "540ebac0",
   "metadata": {},
   "outputs": [],
   "source": [
    "x = data.drop(['Rating'],axis=1)\n",
    "y = data['Rating']"
   ]
  },
  {
   "cell_type": "markdown",
   "id": "1538e3dc",
   "metadata": {},
   "source": [
    "<p> Splitting the dataset into training and test datasets </p>"
   ]
  },
  {
   "cell_type": "code",
   "execution_count": 33,
   "id": "7942b544",
   "metadata": {},
   "outputs": [],
   "source": [
    "X_train, X_test, Y_train, Y_test = train_test_split(x,y,test_size=0.20,random_state=42)"
   ]
  },
  {
   "cell_type": "code",
   "execution_count": 34,
   "id": "81d4545d",
   "metadata": {},
   "outputs": [
    {
     "name": "stdout",
     "output_type": "stream",
     "text": [
      "(127598, 8) (31900, 8)\n"
     ]
    }
   ],
   "source": [
    "print(X_train.shape,X_test.shape)"
   ]
  },
  {
   "cell_type": "code",
   "execution_count": null,
   "id": "7563ad44",
   "metadata": {},
   "outputs": [],
   "source": [
    "\n",
    "\n"
   ]
  },
  {
   "cell_type": "code",
   "execution_count": 28,
   "id": "812ff88e",
   "metadata": {},
   "outputs": [
    {
     "name": "stdout",
     "output_type": "stream",
     "text": [
      "Requirement already satisfied: imblearn in c:\\users\\hp\\anaconda3\\lib\\site-packages (0.0)\n",
      "Requirement already satisfied: imbalanced-learn in c:\\users\\hp\\anaconda3\\lib\\site-packages (from imblearn) (0.10.1)\n",
      "Requirement already satisfied: scikit-learn>=1.0.2 in c:\\users\\hp\\anaconda3\\lib\\site-packages (from imbalanced-learn->imblearn) (1.0.2)\n",
      "Requirement already satisfied: numpy>=1.17.3 in c:\\users\\hp\\anaconda3\\lib\\site-packages (from imbalanced-learn->imblearn) (1.21.5)\n",
      "Requirement already satisfied: scipy>=1.3.2 in c:\\users\\hp\\anaconda3\\lib\\site-packages (from imbalanced-learn->imblearn) (1.7.3)\n",
      "Requirement already satisfied: threadpoolctl>=2.0.0 in c:\\users\\hp\\anaconda3\\lib\\site-packages (from imbalanced-learn->imblearn) (2.2.0)\n",
      "Requirement already satisfied: joblib>=1.1.1 in c:\\users\\hp\\anaconda3\\lib\\site-packages (from imbalanced-learn->imblearn) (1.2.0)\n"
     ]
    }
   ],
   "source": [
    "!pip install imblearn"
   ]
  },
  {
   "cell_type": "code",
   "execution_count": 35,
   "id": "361ff00e",
   "metadata": {
    "scrolled": true
   },
   "outputs": [],
   "source": [
    "from imblearn.over_sampling import RandomOverSampler\n",
    "over_sampler = RandomOverSampler(random_state=42)\n",
    "X_train, y_train = over_sampler.fit_resample(X_train, Y_train)"
   ]
  },
  {
   "cell_type": "code",
   "execution_count": 38,
   "id": "1e7d4bb6",
   "metadata": {},
   "outputs": [
    {
     "name": "stdout",
     "output_type": "stream",
     "text": [
      "Training target statistics: Counter({1: 89545, 0: 89545})\n"
     ]
    }
   ],
   "source": [
    "from collections import Counter\n",
    "print(f\"Training target statistics: {Counter(y_train)}\")"
   ]
  },
  {
   "cell_type": "markdown",
   "id": "99437f8f",
   "metadata": {},
   "source": [
    "<p> uniqueId column </p>"
   ]
  },
  {
   "cell_type": "code",
   "execution_count": 39,
   "id": "c49fbd4f",
   "metadata": {},
   "outputs": [
    {
     "data": {
      "text/plain": [
       "(179090, 1)"
      ]
     },
     "execution_count": 39,
     "metadata": {},
     "output_type": "execute_result"
    }
   ],
   "source": [
    "scaler_unique = StandardScaler()\n",
    "scaler_unique.fit(X_train['uniqueID'].values.reshape(-1,1))\n",
    "train_unique = scaler_unique.transform(X_train['uniqueID'].values.reshape(-1,1))\n",
    "test_unique = scaler_unique.transform(X_test['uniqueID'].values.reshape(-1,1))\n",
    "train_unique.shape"
   ]
  },
  {
   "cell_type": "code",
   "execution_count": 40,
   "id": "6bb5522d",
   "metadata": {},
   "outputs": [
    {
     "data": {
      "text/plain": [
       "(179090, 1)"
      ]
     },
     "execution_count": 40,
     "metadata": {},
     "output_type": "execute_result"
    }
   ],
   "source": [
    "scaler_usefulCount = StandardScaler()\n",
    "scaler_usefulCount.fit(X_train['usefulCount'].values.reshape(-1,1))\n",
    "train_usefulCount = scaler_unique.transform(X_train['usefulCount'].values.reshape(-1,1))\n",
    "test_usefulCount = scaler_unique.transform(X_test['usefulCount'].values.reshape(-1,1))\n",
    "train_usefulCount.shape"
   ]
  },
  {
   "cell_type": "code",
   "execution_count": 41,
   "id": "b8344916",
   "metadata": {},
   "outputs": [
    {
     "data": {
      "text/plain": [
       "(179090, 1)"
      ]
     },
     "execution_count": 41,
     "metadata": {},
     "output_type": "execute_result"
    }
   ],
   "source": [
    "scaler_year = StandardScaler()\n",
    "scaler_year.fit(X_train['year'].values.reshape(-1,1))\n",
    "train_year = scaler_unique.transform(X_train['year'].values.reshape(-1,1))\n",
    "test_year = scaler_unique.transform(X_test['year'].values.reshape(-1,1))\n",
    "train_year.shape"
   ]
  },
  {
   "cell_type": "code",
   "execution_count": 42,
   "id": "3c059b9f",
   "metadata": {},
   "outputs": [],
   "source": [
    "scaler_month = StandardScaler()\n",
    "scaler_month.fit(X_train['month'].values.reshape(-1,1))\n",
    "train_month = scaler_unique.transform(X_train['month'].values.reshape(-1,1))\n",
    "test_month = scaler_unique.transform(X_test['month'].values.reshape(-1,1))"
   ]
  },
  {
   "cell_type": "code",
   "execution_count": 43,
   "id": "d37c1774",
   "metadata": {},
   "outputs": [],
   "source": [
    "scaler_day = StandardScaler()\n",
    "scaler_day.fit(X_train['day'].values.reshape(-1,1))\n",
    "train_day = scaler_unique.transform(X_train['day'].values.reshape(-1,1))\n",
    "test_day = scaler_unique.transform(X_test['day'].values.reshape(-1,1))"
   ]
  },
  {
   "cell_type": "code",
   "execution_count": 44,
   "id": "578dfbea",
   "metadata": {},
   "outputs": [],
   "source": [
    "def onehoten(featuretrain,featuretest):\n",
    "    labelencoder = LabelEncoder()\n",
    "    #training\n",
    "    train_lab = labelencoder.fit_transform(featuretrain)\n",
    "    train_int_lab_sub = train_lab.reshape(len(train_lab),1)\n",
    "    #test\n",
    "    test_lab = labelencoder.fit_transform(featuretest)\n",
    "    test_int_lab_sub = test_lab.reshape(len(test_lab),1)\n",
    "    onehot_encoder = OneHotEncoder(sparse=False)\n",
    "    onehot_encoder.fit(train_int_lab_sub)\n",
    "    train_feature = onehot_encoder.transform(train_int_lab_sub)\n",
    "    test_feature = onehot_encoder.transform(test_int_lab_sub)\n",
    "    transformed = [train_feature,test_feature]\n",
    "    return transformed"
   ]
  },
  {
   "cell_type": "code",
   "execution_count": 45,
   "id": "fe73045d",
   "metadata": {},
   "outputs": [],
   "source": [
    "train_drugName,test_drugName = onehoten(X_train['drugName'],X_test['drugName'])"
   ]
  },
  {
   "cell_type": "code",
   "execution_count": 46,
   "id": "e3785167",
   "metadata": {},
   "outputs": [
    {
     "name": "stdout",
     "output_type": "stream",
     "text": [
      "(179090, 3228)\n",
      "(31900, 3228)\n"
     ]
    }
   ],
   "source": [
    "print(train_drugName.shape)\n",
    "print(test_drugName.shape)"
   ]
  },
  {
   "cell_type": "code",
   "execution_count": 47,
   "id": "081e6306",
   "metadata": {},
   "outputs": [],
   "source": [
    "train_condition,test_condition = onehoten(X_train['condition'],X_test['condition'])"
   ]
  },
  {
   "cell_type": "code",
   "execution_count": 48,
   "id": "462bf416",
   "metadata": {},
   "outputs": [
    {
     "name": "stdout",
     "output_type": "stream",
     "text": [
      "(179090, 785)\n",
      "(31900, 785)\n"
     ]
    }
   ],
   "source": [
    "print(train_condition.shape)\n",
    "print(test_condition.shape)"
   ]
  },
  {
   "cell_type": "code",
   "execution_count": 49,
   "id": "f43e05f1",
   "metadata": {},
   "outputs": [],
   "source": [
    "import pickle\n",
    "vectorizer = TfidfVectorizer()\n",
    "vectorizer.fit(X_train['review'].values.astype('U'))\n",
    "with open('tfidf_vectorizer.pkl', 'wb') as f:\n",
    "    pickle.dump(vectorizer, f)"
   ]
  },
  {
   "cell_type": "code",
   "execution_count": 50,
   "id": "81690b37",
   "metadata": {},
   "outputs": [],
   "source": [
    "train_review = vectorizer.transform(X_train['review'].values.astype('U'))\n",
    "test_review = vectorizer.transform(x_test['review'].values.astype('U'))"
   ]
  },
  {
   "cell_type": "code",
   "execution_count": 51,
   "id": "e97fc484",
   "metadata": {},
   "outputs": [],
   "source": [
    "model = LogisticRegression()\n",
    "space = dict()\n",
    "\n",
    "space['penalty'] = ['l1', 'l2']\n",
    "space['C'] = loguniform(1e-5, 10)\n",
    "cv = 3"
   ]
  },
  {
   "cell_type": "code",
   "execution_count": 31,
   "id": "0d6f757a",
   "metadata": {},
   "outputs": [],
   "source": [
    "search = RandomizedSearchCV(model, space, n_iter=100, scoring='accuracy', n_jobs=-1, cv=cv, random_state=1)"
   ]
  },
  {
   "cell_type": "code",
   "execution_count": 34,
   "id": "db9765f2",
   "metadata": {},
   "outputs": [
    {
     "name": "stdout",
     "output_type": "stream",
     "text": [
      "Best Score: 0.8415335532547368\n",
      "Best Hyperparameters: {'C': 3.9386206724436077, 'penalty': 'l2'}\n"
     ]
    }
   ],
   "source": [
    "result = search.fit(train_review, y_train)\n",
    "\n",
    "print('Best Score: %s' % result.best_score_)\n",
    "print('Best Hyperparameters: %s' % result.best_params_)"
   ]
  },
  {
   "cell_type": "code",
   "execution_count": 35,
   "id": "155f67b9",
   "metadata": {},
   "outputs": [
    {
     "data": {
      "text/plain": [
       "LogisticRegression(C=3.9386206724436077)"
      ]
     },
     "execution_count": 35,
     "metadata": {},
     "output_type": "execute_result"
    }
   ],
   "source": [
    "model = LogisticRegression(C=3.9386206724436077,penalty= 'l2')\n",
    "model.fit(train_review, y_train)"
   ]
  },
  {
   "cell_type": "code",
   "execution_count": 58,
   "id": "a817f47b",
   "metadata": {},
   "outputs": [
    {
     "name": "stdout",
     "output_type": "stream",
     "text": [
      "(31900,)\n"
     ]
    }
   ],
   "source": [
    "y_pred = model.predict(test_review)\n",
    "print(y_pred.shape)"
   ]
  },
  {
   "cell_type": "code",
   "execution_count": 59,
   "id": "5e14f8fa",
   "metadata": {},
   "outputs": [
    {
     "name": "stdout",
     "output_type": "stream",
     "text": [
      "Test confusion matrix\n"
     ]
    },
    {
     "data": {
      "text/plain": [
       "Text(33.0, 0.5, 'Actual label')"
      ]
     },
     "execution_count": 59,
     "metadata": {},
     "output_type": "execute_result"
    },
    {
     "data": {
      "image/png": "[encoded data removed]",
      "text/plain": [
       "<Figure size 432x288 with 2 Axes>"
      ]
     },
     "metadata": {
      "needs_background": "light"
     },
     "output_type": "display_data"
    }
   ],
   "source": [
    "print(\"Test confusion matrix\")\n",
    "\n",
    "cntestlog = confusion_matrix(Y_test,y_pred)\n",
    "sns.heatmap(cntestlog, annot=True,fmt=\"d\",cmap='Blues')\n",
    "\n",
    "plt.xlabel(\"Predicted label\")\n",
    "plt.ylabel(\"Actual label\")"
   ]
  },
  {
   "cell_type": "code",
   "execution_count": 60,
   "id": "e643ea3a",
   "metadata": {},
   "outputs": [
    {
     "name": "stdout",
     "output_type": "stream",
     "text": [
      "Accuracy log test 0.8471473354231975\n"
     ]
    }
   ],
   "source": [
    "#Accuracy of the model\n",
    "Accuracy = (cntestlog[0][0] + cntestlog[1][1]) / (cntestlog[0][0] + cntestlog[1][1] + cntestlog[0][1] + cntestlog[1][0])\n",
    "print(\"Accuracy log test\",Accuracy)"
   ]
  },
  {
   "cell_type": "code",
   "execution_count": 61,
   "id": "ba4c032f",
   "metadata": {},
   "outputs": [
    {
     "name": "stdout",
     "output_type": "stream",
     "text": [
      "Train confusion matrix\n"
     ]
    },
    {
     "data": {
      "text/plain": [
       "Text(33.0, 0.5, 'Actual label')"
      ]
     },
     "execution_count": 61,
     "metadata": {},
     "output_type": "execute_result"
    },
    {
     "data": {
      "image/png": "[encoded data removed]",
      "text/plain": [
       "<Figure size 432x288 with 2 Axes>"
      ]
     },
     "metadata": {
      "needs_background": "light"
     },
     "output_type": "display_data"
    }
   ],
   "source": [
    "ytrainpred = model.predict(train_review)\n",
    "print(\"Train confusion matrix\")\n",
    "#plot confusion matrix\n",
    "cnlogtrain = confusion_matrix(y_train,ytrainpred)\n",
    "sns.heatmap(cnlogtrain, annot=True,fmt=\"d\",cmap='Blues')\n",
    "\n",
    "plt.xlabel(\"Predicted label\")\n",
    "plt.ylabel(\"Actual label\")"
   ]
  },
  {
   "cell_type": "code",
   "execution_count": 62,
   "id": "b4fe5c3f",
   "metadata": {},
   "outputs": [
    {
     "name": "stdout",
     "output_type": "stream",
     "text": [
      "Accuracy log train 0.8400804064995254\n"
     ]
    }
   ],
   "source": [
    "Accuracy = (cnlogtrain[0][0] + cnlogtrain[1][1]) / (cnlogtrain[0][0] + cnlogtrain[1][1] + cnlogtrain[0][1] + cnlogtrain[1][0])\n",
    "print(\"Accuracy log train\",Accuracy)"
   ]
  },
  {
   "cell_type": "code",
   "execution_count": 63,
   "id": "3b0a06ca",
   "metadata": {},
   "outputs": [
    {
     "name": "stdout",
     "output_type": "stream",
     "text": [
      "roc auc score = 0.9035570533517163\n"
     ]
    },
    {
     "data": {
      "text/plain": [
       "[<matplotlib.lines.Line2D at 0x24b3a058bb0>]"
      ]
     },
     "execution_count": 63,
     "metadata": {},
     "output_type": "execute_result"
    },
    {
     "data": {
      "image/png": "[encoded data removed]",
      "text/plain": [
       "<Figure size 432x288 with 1 Axes>"
      ]
     },
     "metadata": {
      "needs_background": "light"
     },
     "output_type": "display_data"
    }
   ],
   "source": [
    "y_pred_proba = model.predict_proba(test_review)[:, 1]\n",
    "print(f\"roc auc score = {roc_auc_score(y_test, y_pred_proba)}\")\n",
    "fpr, tpr, thresholds = roc_curve(y_test, y_pred_proba)\n",
    "\n",
    "plt.plot(fpr, tpr)"
   ]
  },
  {
   "cell_type": "markdown",
   "id": "eb26147f",
   "metadata": {},
   "source": [
    "<ul> Observations:\n",
    "    <li> Accuracy = 84% </li>\n",
    "    <li> AUC = 0.90 </li>"
   ]
  },
  {
   "cell_type": "code",
   "execution_count": null,
   "id": "9d61be96",
   "metadata": {},
   "outputs": [],
   "source": []
  },
  {
   "cell_type": "code",
   "execution_count": null,
   "id": "2e6ffc81",
   "metadata": {},
   "outputs": [],
   "source": []
  },
  {
   "cell_type": "markdown",
   "id": "a1b77eee",
   "metadata": {},
   "source": [
    "# Decision Tree "
   ]
  },
  {
   "cell_type": "code",
   "execution_count": 52,
   "id": "afc0ac71",
   "metadata": {},
   "outputs": [
    {
     "name": "stdout",
     "output_type": "stream",
     "text": [
      "{'min_samples_split': 10, 'min_samples_leaf': 5, 'max_depth': 45, 'criterion': 'gini'}\n"
     ]
    }
   ],
   "source": [
    "from sklearn.tree import DecisionTreeClassifier\n",
    "from sklearn.model_selection import GridSearchCV\n",
    "model = DecisionTreeClassifier()\n",
    "# parameters dict\n",
    "params = {\n",
    "    'max_depth' : [1, 3, 10, 30,45],\n",
    "    'min_samples_split' : [5, 10, 100, 500,1000],\n",
    "    \"min_samples_leaf\": [1,3,4,5,6,7],\n",
    "    \"criterion\": [\"gini\", \"entropy\"]\n",
    "}\n",
    "#Randomsearch\n",
    "clf = RandomizedSearchCV(model,params,cv=3,scoring='roc_auc',return_train_score=True)\n",
    "clf.fit(train_review,y_train)\n",
    "\n",
    "\n",
    "\n",
    "max_depth = clf.cv_results_['param_max_depth']\n",
    "#best parameter\n",
    "best_para = clf.best_params_\n",
    "print(best_para)"
   ]
  },
  {
   "cell_type": "code",
   "execution_count": 53,
   "id": "a3ef652e",
   "metadata": {},
   "outputs": [],
   "source": [
    "min_sample = clf.best_params_['min_samples_split']\n",
    "min_sample =  clf.best_params_['min_samples_split']\n",
    "max_depth = clf.best_params_['max_depth']\n",
    "criter =  clf.best_params_['criterion']"
   ]
  },
  {
   "cell_type": "code",
   "execution_count": 61,
   "id": "4617ea49",
   "metadata": {},
   "outputs": [
    {
     "name": "stdout",
     "output_type": "stream",
     "text": [
      "Test confusion matrix\n"
     ]
    },
    {
     "data": {
      "text/plain": [
       "Text(33.0, 0.5, 'Actual label')"
      ]
     },
     "execution_count": 61,
     "metadata": {},
     "output_type": "execute_result"
    },
    {
     "data": {
      "image/png": "[encoded data removed]",
      "text/plain": [
       "<Figure size 432x288 with 2 Axes>"
      ]
     },
     "metadata": {
      "needs_background": "light"
     },
     "output_type": "display_data"
    }
   ],
   "source": [
    "#training model with best parameters found using randomsearch\n",
    "clfnewd = DecisionTreeClassifier(min_samples_split = min_sample,min_samples_leaf=min_sample,max_depth=max_depth,criterion=criter)\n",
    "clfnewd.fit(train_review,y_train)\n",
    "#Presicting values for test samples\n",
    "ydpred = clfnewd.predict(test_review)\n",
    "print(\"Test confusion matrix\")\n",
    "#Plot confusion matrix\n",
    "cn2 = confusion_matrix(Y_test,ydpred)\n",
    "sns.heatmap(cn2, annot=True,fmt=\"d\",cmap='Blues')\n",
    "\n",
    "plt.xlabel(\"Predicted label\")\n",
    "plt.ylabel(\"Actual label\")"
   ]
  },
  {
   "cell_type": "code",
   "execution_count": 62,
   "id": "9f183e62",
   "metadata": {},
   "outputs": [
    {
     "name": "stdout",
     "output_type": "stream",
     "text": [
      "Accuracy 0.7305329153605016\n"
     ]
    }
   ],
   "source": [
    "#Accuracy of model test\n",
    "Accuracy = (cn2[0][0] + cn2[1][1]) / (cn2[0][0] + cn2[1][1] + cn2[0][1] + cn2[1][0])\n",
    "print(\"Accuracy\",Accuracy)"
   ]
  },
  {
   "cell_type": "code",
   "execution_count": 63,
   "id": "a0c3a1f6",
   "metadata": {},
   "outputs": [
    {
     "name": "stdout",
     "output_type": "stream",
     "text": [
      "Train confusion matrix\n"
     ]
    },
    {
     "data": {
      "text/plain": [
       "Text(33.0, 0.5, 'Actual label')"
      ]
     },
     "execution_count": 63,
     "metadata": {},
     "output_type": "execute_result"
    },
    {
     "data": {
      "image/png": "[encoded data removed]",
      "text/plain": [
       "<Figure size 432x288 with 2 Axes>"
      ]
     },
     "metadata": {
      "needs_background": "light"
     },
     "output_type": "display_data"
    }
   ],
   "source": [
    "ytrainpred = clfnewd.predict(train_review)\n",
    "print(\"Train confusion matrix\")\n",
    "#Plot confusion matrix for Train samples\n",
    "cn3 = confusion_matrix(y_train,ytrainpred)\n",
    "sns.heatmap(cn3, annot=True,fmt=\"d\",cmap='Blues')\n",
    "\n",
    "plt.xlabel(\"Predicted label\")\n",
    "plt.ylabel(\"Actual label\")"
   ]
  },
  {
   "cell_type": "code",
   "execution_count": 64,
   "id": "a12e9828",
   "metadata": {},
   "outputs": [
    {
     "name": "stdout",
     "output_type": "stream",
     "text": [
      "Accuracy 0.8426880339494109\n"
     ]
    }
   ],
   "source": [
    "#Accuracy of model train\n",
    "Accuracy = (cn3[0][0] + cn3[1][1]) / (cn3[0][0] + cn3[1][1] + cn3[0][1] + cn3[1][0])\n",
    "print(\"Accuracy\",Accuracy)"
   ]
  },
  {
   "cell_type": "code",
   "execution_count": 71,
   "id": "b4121689",
   "metadata": {},
   "outputs": [
    {
     "data": {
      "image/png": "[encoded data removed]",
      "text/plain": [
       "<Figure size 432x288 with 1 Axes>"
      ]
     },
     "metadata": {
      "needs_background": "light"
     },
     "output_type": "display_data"
    }
   ],
   "source": [
    "#computing prob. of getting the target variable to compute the AUC score\n",
    "y_train_proba = clfnewd.predict_proba(train_review)[::,1]\n",
    "y_proba_pred = clfnewd.predict_proba(test_review)[::,1]\n",
    "fpr, tpr, _ = metrics.roc_curve(Y_test,  y_proba_pred)\n",
    "fprtrain,tprtrain,_ = metrics.roc_curve(y_train,y_train_proba)\n",
    "#create ROC curve\n",
    "plt.plot(fpr,tpr,label=\"test AUC =\"+str(auc(fpr,tpr)))\n",
    "plt.plot(fprtrain,tprtrain,label=\"train AUC =\"+str(auc(fprtrain,tprtrain)))\n",
    "plt.ylabel('True Positive Rate')\n",
    "plt.xlabel('False Positive Rate')\n",
    "plt.legend()\n",
    "plt.show()"
   ]
  },
  {
   "cell_type": "markdown",
   "id": "6332668d",
   "metadata": {},
   "source": [
    "<ul> Observations:\n",
    "    <li> Accuracy = 73% </li>\n",
    "    <li> AUC = 0.794 </li>"
   ]
  },
  {
   "cell_type": "code",
   "execution_count": null,
   "id": "61ea4743",
   "metadata": {},
   "outputs": [],
   "source": []
  },
  {
   "cell_type": "markdown",
   "id": "8048595a",
   "metadata": {},
   "source": [
    "<h2> Naive Bayes Classifier </h2>"
   ]
  },
  {
   "cell_type": "code",
   "execution_count": 73,
   "id": "1da8f884",
   "metadata": {},
   "outputs": [],
   "source": [
    "from sklearn.naive_bayes import MultinomialNB"
   ]
  },
  {
   "cell_type": "code",
   "execution_count": 78,
   "id": "cade25eb",
   "metadata": {},
   "outputs": [
    {
     "name": "stdout",
     "output_type": "stream",
     "text": [
      "Test confusion matrix\n"
     ]
    },
    {
     "data": {
      "text/plain": [
       "Text(33.0, 0.5, 'Actual label')"
      ]
     },
     "execution_count": 78,
     "metadata": {},
     "output_type": "execute_result"
    },
    {
     "data": {
      "image/png": "[encoded data removed]",
      "text/plain": [
       "<Figure size 432x288 with 2 Axes>"
      ]
     },
     "metadata": {
      "needs_background": "light"
     },
     "output_type": "display_data"
    }
   ],
   "source": [
    "clfnewd = MultinomialNB()\n",
    "clfnewd.fit(train_review,y_train)\n",
    "#Presicting values for test samples\n",
    "ydpred = clfnewd.predict(test_review)\n",
    "print(\"Test confusion matrix\")\n",
    "#Plot confusion matrix\n",
    "cn2 = confusion_matrix(Y_test,ydpred)\n",
    "sns.heatmap(cn2, annot=True,fmt=\"d\",cmap='Blues')\n",
    "\n",
    "plt.xlabel(\"Predicted label\")\n",
    "plt.ylabel(\"Actual label\")"
   ]
  },
  {
   "cell_type": "code",
   "execution_count": 80,
   "id": "a8a55add",
   "metadata": {},
   "outputs": [
    {
     "name": "stdout",
     "output_type": "stream",
     "text": [
      "Accuracy test 0.7811912225705329\n"
     ]
    }
   ],
   "source": [
    "#Accuracy of the model\n",
    "Accuracy = (cn2[0][0] + cn2[1][1]) / (cn2[0][0] + cn2[1][1] + cn2[0][1] + cn2[1][0])\n",
    "print(\"Accuracy test\",Accuracy)"
   ]
  },
  {
   "cell_type": "code",
   "execution_count": 81,
   "id": "df2915b9",
   "metadata": {},
   "outputs": [
    {
     "data": {
      "image/png": "[encoded data removed]",
      "text/plain": [
       "<Figure size 432x288 with 1 Axes>"
      ]
     },
     "metadata": {
      "needs_background": "light"
     },
     "output_type": "display_data"
    }
   ],
   "source": [
    "#computing prob. of getting the target variable to compute the AUC score\n",
    "y_train_proba = clfnewd.predict_proba(train_review)[::,1]\n",
    "y_proba_pred = clfnewd.predict_proba(test_review)[::,1]\n",
    "fpr, tpr, _ = metrics.roc_curve(Y_test,  y_proba_pred)\n",
    "fprtrain,tprtrain,_ = metrics.roc_curve(y_train,y_train_proba)\n",
    "#create ROC curve\n",
    "plt.plot(fpr,tpr,label=\"test AUC =\"+str(auc(fpr,tpr)))\n",
    "plt.plot(fprtrain,tprtrain,label=\"train AUC =\"+str(auc(fprtrain,tprtrain)))\n",
    "plt.ylabel('True Positive Rate')\n",
    "plt.xlabel('False Positive Rate')\n",
    "plt.legend()\n",
    "plt.show()"
   ]
  },
  {
   "cell_type": "markdown",
   "id": "ed9e97d4",
   "metadata": {},
   "source": [
    "<ul> Observations:\n",
    "    <li> Accuracy = 78% </li>\n",
    "    <li> AUC = 0.86 </li>"
   ]
  },
  {
   "cell_type": "code",
   "execution_count": null,
   "id": "39394cf4",
   "metadata": {},
   "outputs": [],
   "source": []
  },
  {
   "cell_type": "code",
   "execution_count": null,
   "id": "b5c349ee",
   "metadata": {},
   "outputs": [],
   "source": []
  },
  {
   "cell_type": "code",
   "execution_count": null,
   "id": "f858db9d",
   "metadata": {},
   "outputs": [],
   "source": []
  },
  {
   "cell_type": "markdown",
   "id": "cb93193c",
   "metadata": {},
   "source": [
    "<h2> Random Forest</h2>"
   ]
  },
  {
   "cell_type": "code",
   "execution_count": 85,
   "id": "178ec6f1",
   "metadata": {},
   "outputs": [
    {
     "data": {
      "text/plain": [
       "RandomizedSearchCV(cv=3, estimator=RandomForestClassifier(),\n",
       "                   param_distributions={'criterion': ['gini', 'log_loss'],\n",
       "                                        'max_depth': [8, 11, 12, 18],\n",
       "                                        'max_leaf_nodes': [6, 2, 4, 5],\n",
       "                                        'n_estimators': [330, 340, 500]},\n",
       "                   return_train_score=True, scoring='roc_auc')"
      ]
     },
     "execution_count": 85,
     "metadata": {},
     "output_type": "execute_result"
    }
   ],
   "source": [
    "from sklearn.ensemble import RandomForestClassifier\n",
    "parameters = {\n",
    "    'n_estimators'      : [330,340,500],\n",
    "    'max_depth'         : [8,11, 12,18],\n",
    "    'criterion'         : ['gini', 'log_loss'],\n",
    "    'max_leaf_nodes'    : [6,2,4,5]\n",
    "    \n",
    "}\n",
    "model = RandomForestClassifier()\n",
    "#Randomsearch\n",
    "clfrandom = RandomizedSearchCV(model,parameters,cv=3,scoring='roc_auc',return_train_score=True)\n",
    "clfrandom.fit(train_review,y_train)"
   ]
  },
  {
   "cell_type": "code",
   "execution_count": 86,
   "id": "f2c745f5",
   "metadata": {},
   "outputs": [],
   "source": [
    "n_estimator = clfrandom.best_params_['n_estimators']\n",
    "max_depth = clfrandom.best_params_['max_depth'] \n",
    "criterion = clfrandom.best_params_['criterion'] \n",
    "max_leaf_nodes = clfrandom.best_params_['max_leaf_nodes'] "
   ]
  },
  {
   "cell_type": "code",
   "execution_count": 87,
   "id": "fed2427c",
   "metadata": {},
   "outputs": [
    {
     "data": {
      "text/plain": [
       "RandomForestClassifier(max_depth=11, max_leaf_nodes=5, n_estimators=340)"
      ]
     },
     "execution_count": 87,
     "metadata": {},
     "output_type": "execute_result"
    }
   ],
   "source": [
    "#training the model using best parameters\n",
    "modelrandom = RandomForestClassifier(n_estimators=n_estimator,max_depth=max_depth,criterion=criterion,max_leaf_nodes=max_leaf_nodes)\n",
    "modelrandom.fit(train_review,y_train)"
   ]
  },
  {
   "cell_type": "code",
   "execution_count": 89,
   "id": "2de3da36",
   "metadata": {},
   "outputs": [
    {
     "name": "stdout",
     "output_type": "stream",
     "text": [
      "Test confusion matrix\n"
     ]
    },
    {
     "data": {
      "text/plain": [
       "Text(33.0, 0.5, 'Actual label')"
      ]
     },
     "execution_count": 89,
     "metadata": {},
     "output_type": "execute_result"
    },
    {
     "data": {
      "image/png": "[encoded data removed]",
      "text/plain": [
       "<Figure size 432x288 with 2 Axes>"
      ]
     },
     "metadata": {
      "needs_background": "light"
     },
     "output_type": "display_data"
    }
   ],
   "source": [
    "#Presicting values for test samples\n",
    "ydpred = modelrandom.predict(test_review)\n",
    "print(\"Test confusion matrix\")\n",
    "#Plot confusion matrix\n",
    "cnr = confusion_matrix(Y_test,ydpred)\n",
    "sns.heatmap(cn2, annot=True,fmt=\"d\",cmap='Blues')\n",
    "\n",
    "plt.xlabel(\"Predicted label\")\n",
    "plt.ylabel(\"Actual label\")"
   ]
  },
  {
   "cell_type": "code",
   "execution_count": 90,
   "id": "5cdd57db",
   "metadata": {},
   "outputs": [
    {
     "name": "stdout",
     "output_type": "stream",
     "text": [
      "Accuracy test 0.7461755485893417\n"
     ]
    }
   ],
   "source": [
    "#Accuracy of the model\n",
    "Accuracy = (cnr[0][0] + cnr[1][1]) / (cnr[0][0] + cnr[1][1] + cnr[0][1] + cnr[1][0])\n",
    "print(\"Accuracy test\",Accuracy)"
   ]
  },
  {
   "cell_type": "code",
   "execution_count": 92,
   "id": "81a272e4",
   "metadata": {},
   "outputs": [
    {
     "data": {
      "image/png": "[encoded data removed]",
      "text/plain": [
       "<Figure size 432x288 with 1 Axes>"
      ]
     },
     "metadata": {
      "needs_background": "light"
     },
     "output_type": "display_data"
    }
   ],
   "source": [
    "#computing prob. of getting the target variable to compute the AUC score\n",
    "y_train_proba = clfnewd.predict_proba(train_review)[::,1]\n",
    "y_proba_pred = clfnewd.predict_proba(test_review)[::,1]\n",
    "fpr, tpr, _ = metrics.roc_curve(Y_test,  y_proba_pred)\n",
    "fprtrain,tprtrain,_ = metrics.roc_curve(y_train,y_train_proba)\n",
    "#create ROC curve\n",
    "plt.plot(fpr,tpr,label=\"test AUC =\"+str(auc(fpr,tpr)))\n",
    "plt.plot(fprtrain,tprtrain,label=\"train AUC =\"+str(auc(fprtrain,tprtrain)))\n",
    "plt.ylabel('True Positive Rate')\n",
    "plt.xlabel('False Positive Rate')\n",
    "plt.legend()\n",
    "plt.show()"
   ]
  },
  {
   "cell_type": "markdown",
   "id": "1fa41e75",
   "metadata": {},
   "source": [
    "<ul> Observations:\n",
    "    <li> Accuracy = 74% </li>\n",
    "    <li> AUC = 0.86 </li>"
   ]
  },
  {
   "cell_type": "code",
   "execution_count": null,
   "id": "0c7b042a",
   "metadata": {},
   "outputs": [],
   "source": []
  },
  {
   "cell_type": "markdown",
   "id": "84db0d02",
   "metadata": {},
   "source": [
    "<h2> For Deployment </h2>"
   ]
  },
  {
   "cell_type": "code",
   "execution_count": 96,
   "id": "f1ab5d58",
   "metadata": {},
   "outputs": [],
   "source": [
    "filename = 'finalized_model.sav'\n",
    "pickle.dump(model, open(filename, 'wb'))\n",
    " \n"
   ]
  },
  {
   "cell_type": "code",
   "execution_count": 2,
   "id": "3a96ee2a",
   "metadata": {},
   "outputs": [
    {
     "name": "stdout",
     "output_type": "stream",
     "text": [
      "1.1.2\n"
     ]
    }
   ],
   "source": [
    "import flask\n",
    "print(flask.__version__)"
   ]
  },
  {
   "cell_type": "code",
   "execution_count": 6,
   "id": "c2b4e33d",
   "metadata": {},
   "outputs": [
    {
     "ename": "NameError",
     "evalue": "name 'python' is not defined",
     "output_type": "error",
     "traceback": [
      "\u001b[1;31m---------------------------------------------------------------------------\u001b[0m",
      "\u001b[1;31mNameError\u001b[0m                                 Traceback (most recent call last)",
      "Input \u001b[1;32mIn [6]\u001b[0m, in \u001b[0;36m<cell line: 1>\u001b[1;34m()\u001b[0m\n\u001b[1;32m----> 1\u001b[0m \u001b[38;5;28mprint\u001b[39m(\u001b[43mpython\u001b[49m\u001b[38;5;241m.\u001b[39m__version__)\n",
      "\u001b[1;31mNameError\u001b[0m: name 'python' is not defined"
     ]
    }
   ],
   "source": [
    "print(python.__version__)"
   ]
  },
  {
   "cell_type": "code",
   "execution_count": 7,
   "id": "a86f4a73",
   "metadata": {},
   "outputs": [
    {
     "name": "stdout",
     "output_type": "stream",
     "text": [
      "3.9.12 (main, Apr  4 2022, 05:22:27) [MSC v.1916 64 bit (AMD64)]\n"
     ]
    }
   ],
   "source": [
    "import sys\n",
    "print(sys.version)\n"
   ]
  },
  {
   "cell_type": "code",
   "execution_count": null,
   "id": "13c158ea",
   "metadata": {},
   "outputs": [],
   "source": []
  },
  {
   "cell_type": "code",
   "execution_count": null,
   "id": "ec39e1ef",
   "metadata": {},
   "outputs": [],
   "source": []
  },
  {
   "cell_type": "code",
   "execution_count": null,
   "id": "5952fa1e",
   "metadata": {},
   "outputs": [],
   "source": []
  },
  {
   "cell_type": "code",
   "execution_count": null,
   "id": "c5cb824b",
   "metadata": {},
   "outputs": [],
   "source": []
  },
  {
   "cell_type": "code",
   "execution_count": null,
   "id": "9adadf99",
   "metadata": {},
   "outputs": [],
   "source": []
  },
  {
   "cell_type": "code",
   "execution_count": null,
   "id": "e47be42a",
   "metadata": {},
   "outputs": [],
   "source": []
  },
  {
   "cell_type": "code",
   "execution_count": null,
   "id": "77591a54",
   "metadata": {},
   "outputs": [],
   "source": []
  },
  {
   "cell_type": "code",
   "execution_count": null,
   "id": "7657dd31",
   "metadata": {},
   "outputs": [],
   "source": []
  },
  {
   "cell_type": "code",
   "execution_count": null,
   "id": "7565d728",
   "metadata": {},
   "outputs": [],
   "source": []
  },
  {
   "cell_type": "code",
   "execution_count": null,
   "id": "6b2d4bc7",
   "metadata": {},
   "outputs": [],
   "source": []
  },
  {
   "cell_type": "code",
   "execution_count": null,
   "id": "c2464bb3",
   "metadata": {},
   "outputs": [],
   "source": []
  },
  {
   "cell_type": "code",
   "execution_count": null,
   "id": "62d09b55",
   "metadata": {},
   "outputs": [],
   "source": []
  },
  {
   "cell_type": "code",
   "execution_count": null,
   "id": "8b3a2e48",
   "metadata": {},
   "outputs": [],
   "source": []
  },
  {
   "cell_type": "code",
   "execution_count": null,
   "id": "7821ca32",
   "metadata": {},
   "outputs": [],
   "source": []
  },
  {
   "cell_type": "code",
   "execution_count": null,
   "id": "cef5c70d",
   "metadata": {},
   "outputs": [],
   "source": []
  },
  {
   "cell_type": "code",
   "execution_count": null,
   "id": "c679fbb8",
   "metadata": {},
   "outputs": [],
   "source": []
  },
  {
   "cell_type": "code",
   "execution_count": null,
   "id": "94f3279b",
   "metadata": {},
   "outputs": [],
   "source": []
  }
 ],
 "metadata": {
  "kernelspec": {
   "display_name": "Python 3 (ipykernel)",
   "language": "python",
   "name": "python3"
  },
  "language_info": {
   "codemirror_mode": {
    "name": "ipython",
    "version": 3
   },
   "file_extension": ".py",
   "mimetype": "text/x-python",
   "name": "python",
   "nbconvert_exporter": "python",
   "pygments_lexer": "ipython3",
   "version": "3.9.12"
  }
 },
 "nbformat": 4,
 "nbformat_minor": 5
}
